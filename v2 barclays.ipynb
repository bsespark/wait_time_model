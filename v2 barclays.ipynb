{
 "cells": [
  {
   "cell_type": "markdown",
   "id": "cadc5c5f",
   "metadata": {},
   "source": [
    "### Data -- Wait time stats actual view"
   ]
  },
  {
   "cell_type": "code",
   "execution_count": 2,
   "id": "17572afd",
   "metadata": {},
   "outputs": [],
   "source": [
    "# pip install psycopg2\n",
    "#!pip install snowflake\n",
    "#!pip install lightgbm\n",
    "#!pip install gtfs-realtime-bindings\n",
    "\n",
    "import pandas as pd\n",
    "import matplotlib.pyplot as plt\n",
    "import seaborn as sns\n",
    "import numpy as np\n",
    "import psycopg2\n",
    "from datetime import datetime\n",
    "import requests\n",
    "from datetime import date\n",
    "from datetime import timedelta\n",
    "import snowflake.connector"
   ]
  },
  {
   "cell_type": "code",
   "execution_count": 3,
   "id": "7abd1f77",
   "metadata": {},
   "outputs": [
    {
     "name": "stdout",
     "output_type": "stream",
     "text": [
      "Initiating login request with your identity provider. A browser window should have opened for you to complete the login. If you can't see it, check existing browser windows, or your OS settings. Press CTRL+C to abort and try again...\n",
      "Going to open: https://bseglobal.okta.com/app/snowflake/exkqh96ogn06lUM3g4x7/sso/saml?SAMLRequest=rZNbc9owEIX%2Fikd9tiUMJaABMjRMWlqnpQF6yZuwhdEga41WjqG%2FvjK3SR%2BSp75ppLP6zu6RBrf7QgfP0qICMyStiJFAmhQyZfIhWS7uwx4J0AmTCQ1GDslBIrkdDVAUuuTjym3Mo9xVEl3gLzLIm4MhqazhIFAhN6KQyF3K5%2BOHhMcR4wJRWudx5FySofKsjXMlp7Su66huR2BzGjPGKOtTr2ok78gLRPk2o7TgIAV9Kdn7nl5BtCjrNAiv8ITZufCDMqcRvEVZnUTIPy0Ws3D2bb4gwfjS3R0YrApp59I%2Bq1QuH5OTAfQOVhZgqw8GS7AO%2FXClcb5KKFP4VbhCmWtYCR2hgXqtxVamUJSV87DIr%2BhaZlRDrvwIp5MhKbcq86qk93u6K6T4vEl%2Bbbq7Kts9jf8kycd9Udci7n8v6p83X1jaSUnw4xJ43AQ%2BRazk1DQxO7%2FF4vch64Wss4gZZ13e7ketbvuJBBMfszLCHSuvvVzNwtaJoz1RlvTqnMr9drfpdyE3rKuXD%2B28s7%2BhiECbHMnpKfGjBTv6TwMa0JeXnh%2FrV5%2FfdDIDrdJDcA%2B2EO71eFtR67ijsnB9lHJZCKXHWWYloo9Za6jvrBTO%2FwlnK0no6ET991eM%2FgI%3D&RelayState=ver%3A1-hint%3A2913134585700362-ETMsDgAAAZh2sXk7ABRBRVMvQ0JDL1BLQ1M1UGFkZGluZwEAABAAEAgmJJ08w8PrMwSDs2Rlty8AAACgGawr5bjzhbJkpJoqzfseaOeHt6OnOaw2RY5AXWJ5rQdy0H9AYBjaLsBGWbA3tR4Cb2Ok22vPSxBEGsf5K3Qk8OpEpwGdGAxiZWlxnZ3jJQTQKRPc9avXKs8QaRmdD0YwteqGg6wE6quVkaXYNiyUrkA5%2BSXXGgunG9JeHN3Nd%2BT%2F1HHuJtGSu7y8L4eX32VEkcDChi%2FLwdbPkxe8twA5kQAUesb1%2FnickmiEox3O%2FSJCzDgtJGc%3D to authenticate...\n",
      "  EVENT_NAME                        EVENT_NAME_LONG  \\\n",
      "0   25BADOI2                  Disney On Ice 11:00AM   \n",
      "1   24BK0408  Brooklyn Nets v. New Orleans Pelicans   \n",
      "2   25BA0412       Reggae Fest Presents Vybz Kartel   \n",
      "3   25LB0601    New York Liberty v. Connecticut Sun   \n",
      "4   24BA1205             USHER: Past Present Future   \n",
      "\n",
      "                            SEASON_NAME SEASON_YEAR  EVENT_DATE EVENT_TIME  \\\n",
      "0                    2025 Disney On Ice        2025  2025-01-17   11:00:00   \n",
      "1  Brooklyn Nets 2024-25 Regular Season        2024  2025-04-08   19:30:00   \n",
      "2                      2025 Vybz Kartel        2025  2025-04-12   21:00:00   \n",
      "3  New York Liberty 2025 Regular Season        2025  2025-06-01   15:00:00   \n",
      "4                            2024 Usher        2024  2024-12-05   20:00:00   \n",
      "\n",
      "  EVENT_DAY                       TEAM    EVENT_TYPE       MINOR_CATEGORY  \\\n",
      "0       FRI  Disney On Ice 11:00AM      Single Event            ICE SHOWS   \n",
      "1       TUE  New Orleans Pelicans       Single Event   NBA PRO BASKETBALL   \n",
      "2       SAT  Vybz Kartel                Single Event               REGGAE   \n",
      "3       SUN  Connecticut Sun            Single Event  WNBA PRO BASKETBALL   \n",
      "4       THU  USHER                      Single Event                R & B   \n",
      "\n",
      "   ...         SENSORDESC NUMBERINLINE SERVETIMEFRAMES            STARTTIME  \\\n",
      "0  ...  Atlantic Entrance            2             300  2025-01-17 09:00:01   \n",
      "1  ...      Main Entrance           10              38  2025-04-08 17:30:05   \n",
      "2  ...      Main Entrance          106              38  2025-04-12 19:00:02   \n",
      "3  ...      Main Entrance           15              38  2025-05-30 06:39:22   \n",
      "4  ...  Atlantic Entrance            1             300  2024-12-05 20:00:03   \n",
      "\n",
      "   Serve Time (seconds) Relative Start (minutes)        EVENT_TIME_1  \\\n",
      "0                  30.0                      137 2025-01-17 11:00:00   \n",
      "1                   3.8                        9 2025-04-08 19:30:00   \n",
      "2                   3.8                      -12 2025-04-12 21:00:00   \n",
      "3                   3.8                       22 2025-06-01 15:00:00   \n",
      "4                  30.0                      127 2024-12-05 20:00:00   \n",
      "\n",
      "   Wait Time (seconds)  Wait Time (minutes)    Time Category  \n",
      "0                 60.0                 1.00    60+ min after  \n",
      "1                 38.0                 0.63   0-30 min after  \n",
      "2                402.8                 6.71  0-30 min before  \n",
      "3                 57.0                 0.95   0-30 min after  \n",
      "4                 30.0                 0.50    60+ min after  \n",
      "\n",
      "[5 rows x 23 columns]\n"
     ]
    }
   ],
   "source": [
    "# Connect to Snowflake\n",
    "conn = snowflake.connector.connect(\n",
    "    user='SPARK',\n",
    "    authenticator = \"externalbrowser\",\n",
    "    account='BROOKLYNSPORTSANDENTERTAINMENT-BSEGLOBAL',  # e.g., xy12345.us-east-1\n",
    "    warehouse='All Too Ware',\n",
    "    database='BSEDW',\n",
    "    schema='WAITTIME', \n",
    "    role = \"SNOWFLAKE_DOMINATEAI\"\n",
    ")\n",
    "cursor = conn.cursor()\n",
    "# Explicitly activate the warehouse\n",
    "cursor.execute('USE WAREHOUSE \"All Too Ware\"')\n",
    "\n",
    "# Query data\n",
    "query = \"SELECT * FROM WAITTIME_STATSACTUALVIEW where EVENT_DATE <= '2025-07-27'\"\n",
    "cursor.execute(query)\n",
    "\n",
    "# Convert to pandas DataFrame\n",
    "df = cursor.fetch_pandas_all()\n",
    "\n",
    "# Close the connection\n",
    "cursor.close()\n",
    "conn.close()\n",
    "\n",
    "# Display results\n",
    "print(df.head())\n"
   ]
  },
  {
   "cell_type": "code",
   "execution_count": 4,
   "id": "afc0a027",
   "metadata": {},
   "outputs": [],
   "source": [
    "# Convert all column names to lowercase\n",
    "df.columns = df.columns.str.lower()"
   ]
  },
  {
   "cell_type": "code",
   "execution_count": null,
   "id": "4e5573f5",
   "metadata": {},
   "outputs": [],
   "source": [
    "needed_columns = ['event_name',\n",
    "'event_name_long',\n",
    "'event_date',\n",
    "'event_time',\n",
    "'event_day',\n",
    "'starttime',\n",
    "'team',\n",
    "'minor_category',\n",
    "'property',\n",
    "'numberinline',\n",
    "'relative start (minutes)',\n",
    "'wait time (minutes)',\n",
    "'time category']\n",
    "\n",
    "df = df[needed_columns]"
   ]
  },
  {
   "cell_type": "code",
   "execution_count": 6,
   "id": "c5942388",
   "metadata": {},
   "outputs": [],
   "source": [
    "# CSV\n",
    "df.to_csv('wait time.csv', index=False)  "
   ]
  },
  {
   "cell_type": "code",
   "execution_count": 7,
   "id": "0ce23358",
   "metadata": {},
   "outputs": [],
   "source": [
    "# Convert times \n",
    "df['event_date'] = pd.to_datetime(df['event_date'])\n",
    "df['starttime'] = pd.to_datetime(df['starttime'], errors='coerce')\n",
    "df['event_time'] = pd.to_datetime(df['event_time'], format='%H:%M:%S').dt.time\n",
    "\n",
    "# Note: relative start (minutes) should already be calculated in the source data\n",
    "# If it's missing, we would need the actual timestamp column to compute it"
   ]
  },
  {
   "cell_type": "code",
   "execution_count": 8,
   "id": "046cfa4d",
   "metadata": {},
   "outputs": [],
   "source": [
    "# Remove upsell or irrelevant events\n",
    "df = df[~(df['event_name_long'].str.contains(\"Upsell\", na=False) | \n",
    "          df['event_name_long'].str.contains(\"CANCELED\", na=False) |\n",
    "          df['event_name_long'].str.contains(\"Cancelled\", na=False) |\n",
    "          df['event_name_long'].str.contains(\"Libs for Kids 2023 Holding Event\", na=False) |\n",
    "          df['event_name_long'].str.contains(\"Test\", na=False) |\n",
    "          df['team'].str.contains(\"Test\", case=False, na=False))]\n",
    "\n",
    "# Drop nulls in critical columns\n",
    "df = df.dropna(subset=['relative start (minutes)', 'wait time (minutes)', 'numberinline'])"
   ]
  },
  {
   "cell_type": "code",
   "execution_count": 9,
   "id": "3d77489f",
   "metadata": {},
   "outputs": [
    {
     "name": "stdout",
     "output_type": "stream",
     "text": [
      "Rows with 'test' in team name after filtering: 0\n",
      "✓ Successfully removed all rows with 'test' in team name\n"
     ]
    }
   ],
   "source": [
    "# Verify that test - brooklyn nets rows are removed\n",
    "test_rows = df[df['team'].str.contains(\"test\", case=False, na=False)]\n",
    "print(f\"Rows with 'test' in team name after filtering: {len(test_rows)}\")\n",
    "if len(test_rows) > 0:\n",
    "    print(\"Teams still containing 'test':\")\n",
    "    print(test_rows['team'].value_counts())\n",
    "else:\n",
    "    print(\"✓ Successfully removed all rows with 'test' in team name\")"
   ]
  },
  {
   "cell_type": "markdown",
   "id": "5abc35ef",
   "metadata": {},
   "source": [
    "### Relative start time cutoffs"
   ]
  },
  {
   "cell_type": "code",
   "execution_count": 10,
   "id": "c91ad527",
   "metadata": {},
   "outputs": [
    {
     "name": "stdout",
     "output_type": "stream",
     "text": [
      "Minimum event_date: 2023-09-01 00:00:00\n",
      "Maximum event_date: 2025-07-26 00:00:00\n"
     ]
    }
   ],
   "source": [
    "# Print minimum and maximum event_date\n",
    "print('Minimum event_date:', df['event_date'].min())\n",
    "print('Maximum event_date:', df['event_date'].max())"
   ]
  },
  {
   "cell_type": "code",
   "execution_count": 11,
   "id": "c11d4e5c",
   "metadata": {},
   "outputs": [
    {
     "data": {
      "image/png": "[encoded data removed]",
      "text/plain": [
       "<Figure size 640x480 with 1 Axes>"
      ]
     },
     "metadata": {},
     "output_type": "display_data"
    }
   ],
   "source": [
    "import seaborn as sns\n",
    "import matplotlib.pyplot as plt\n",
    "\n",
    "sns.lineplot(data=df, x='relative start (minutes)', y='wait time (minutes)')\n",
    "plt.title(\"Raw Wait Times Over Time (Relative to Event Start)\")\n",
    "plt.axvline(0, linestyle='--', color='gray', label='Event Start')\n",
    "plt.axvline(-100, linestyle=':', color='red')\n",
    "plt.axvline(30, linestyle=':', color='red')\n",
    "plt.legend()\n",
    "plt.grid(True)\n",
    "plt.show()\n"
   ]
  },
  {
   "cell_type": "code",
   "execution_count": 12,
   "id": "e565a3c5",
   "metadata": {},
   "outputs": [],
   "source": [
    "# Round to nearest minute\n",
    "df['relative start (minutes)'].astype(int) \n",
    "\n",
    "# Filter out after-event tail if not useful\n",
    "df = df[df['relative start (minutes)'] <= 30] # Operataional cutoff \n",
    "df = df[df['relative start (minutes)'] >= -100]"
   ]
  },
  {
   "cell_type": "code",
   "execution_count": 13,
   "id": "587fb833",
   "metadata": {},
   "outputs": [
    {
     "data": {
      "image/png": "[encoded data removed]",
      "text/plain": [
       "<Figure size 640x480 with 1 Axes>"
      ]
     },
     "metadata": {},
     "output_type": "display_data"
    }
   ],
   "source": [
    "sns.lineplot(data=df, x='relative start (minutes)', y='numberinline')\n",
    "plt.axvline(0, linestyle='--', color='gray', label='Event Start')\n",
    "plt.legend()\n",
    "plt.grid(True)\n",
    "plt.show()"
   ]
  },
  {
   "cell_type": "code",
   "execution_count": 14,
   "id": "62ca4fb0",
   "metadata": {},
   "outputs": [],
   "source": [
    "# 5 minute buckets \n",
    "df['5_minute_bucket'] = (df['relative start (minutes)'] // 5) * 5"
   ]
  },
  {
   "cell_type": "markdown",
   "id": "daa50915",
   "metadata": {},
   "source": [
    "### Queue trend with numberline"
   ]
  },
  {
   "cell_type": "code",
   "execution_count": 15,
   "id": "357abe2d",
   "metadata": {},
   "outputs": [],
   "source": [
    "# Adding queue trend features (when lines are accelearating or decelerating)\n",
    "df = df.sort_values(['event_name','relative start (minutes)'])\n",
    "\n",
    "# 5-minute rolling mean -- congestion at specific times \n",
    "df['queue_mean_5'] = (\n",
    "    df.groupby('event_name')['numberinline']\n",
    "      .transform(lambda s: s.rolling(window=5, min_periods=1).mean())\n",
    ")\n",
    "df['day_of_week'] = df['event_date'].dt.dayofweek\n",
    "# 5-minute rolling slope (simple linear trend) -- accelration or deceleration of queue\n",
    "def _slope(a):\n",
    "    idx = np.arange(len(a))\n",
    "    return np.polyfit(idx, a, 1)[0]  # coefficient of x\n",
    "\n",
    "df['queue_slope_5'] = (\n",
    "    df.groupby('event_name')['numberinline']\n",
    "      .transform(lambda s: s.rolling(window=5, min_periods=2).apply(_slope, raw=True))\n",
    "      .fillna(0)\n",
    ")\n"
   ]
  },
  {
   "cell_type": "code",
   "execution_count": 16,
   "id": "d700db87",
   "metadata": {},
   "outputs": [
    {
     "data": {
      "image/png": "[encoded data removed]",
      "text/plain": [
       "<Figure size 1000x600 with 2 Axes>"
      ]
     },
     "metadata": {},
     "output_type": "display_data"
    }
   ],
   "source": [
    "# Combined plot\n",
    "plt.figure(figsize=(10, 6))\n",
    "plt.subplot(2,1,1)\n",
    "df.groupby('relative start (minutes)')['queue_mean_5'].mean().plot()\n",
    "plt.title('Queue Mean')\n",
    "plt.axvline(0, color='red', linestyle='--')\n",
    "\n",
    "plt.subplot(2,1,2)\n",
    "df.groupby('relative start (minutes)')['queue_slope_5'].mean().plot()\n",
    "plt.title('Queue Slope')\n",
    "plt.axvline(0, color='red', linestyle='--')\n",
    "plt.xlabel('Minutes from Event Start')\n",
    "\n",
    "plt.tight_layout()\n",
    "plt.show()"
   ]
  },
  {
   "cell_type": "markdown",
   "id": "99adf6e6",
   "metadata": {},
   "source": [
    "### Cyclical"
   ]
  },
  {
   "cell_type": "code",
   "execution_count": 17,
   "id": "1ef28128",
   "metadata": {},
   "outputs": [],
   "source": [
    "# Add cyclical time features for better modeling\n",
    "df['hour'] = pd.to_datetime(df['event_time'], format='%H:%M:%S').dt.hour\n",
    "df['hour_sin'] = np.sin(2 * np.pi * df['hour'] / 24)\n",
    "df['hour_cos'] = np.cos(2 * np.pi * df['hour'] / 24)\n",
    "\n",
    "# Day of week cyclical encoding\n",
    "df['day_sin'] = np.sin(2 * np.pi * df['day_of_week'] / 7)\n",
    "df['day_cos'] = np.cos(2 * np.pi * df['day_of_week'] / 7)\n",
    "\n",
    "# Minute bucket cyclical encoding (for within-event timing)\n",
    "df['minute_sin'] = np.sin(2 * np.pi * df['relative start (minutes)'] / 30)  # 30 minute cycle\n",
    "df['minute_cos'] = np.cos(2 * np.pi * df['relative start (minutes)'] / 30)"
   ]
  },
  {
   "cell_type": "markdown",
   "id": "972593c7",
   "metadata": {},
   "source": [
    "### Attendance "
   ]
  },
  {
   "cell_type": "code",
   "execution_count": 18,
   "id": "8b12d041",
   "metadata": {},
   "outputs": [
    {
     "name": "stderr",
     "output_type": "stream",
     "text": [
      "C:\\Users\\spark\\AppData\\Local\\Temp\\ipykernel_30220\\2998683415.py:26: UserWarning: pandas only supports SQLAlchemy connectable (engine/connection) or database string URI or sqlite3 DBAPI2 connection. Other DBAPI2 objects are not tested. Please consider using SQLAlchemy.\n",
      "  test = pd.read_sql(query, con = connection)\n"
     ]
    },
    {
     "name": "stdout",
     "output_type": "stream",
     "text": [
      "    event_date event_time  count\n",
      "0   2023-03-13   20:00:00      5\n",
      "1   2023-03-17   17:30:00   3131\n",
      "2   2023-04-01   20:00:00  10986\n",
      "3   2023-05-05   19:00:00   5158\n",
      "4   2023-05-06   11:00:00    309\n",
      "..         ...        ...    ...\n",
      "467 2025-07-22   20:00:00  15010\n",
      "468 2025-07-25   19:30:00  15518\n",
      "469 2025-07-26   19:00:00  14200\n",
      "470 2025-07-29   19:30:00  15537\n",
      "471 2025-07-31   20:00:00   9553\n",
      "\n",
      "[472 rows x 3 columns]\n"
     ]
    }
   ],
   "source": [
    "# Attendence counts \n",
    "def run_query():\n",
    "#Connect with the database\n",
    "    DW_HOST = \"172.22.12.130\"\n",
    "    DW_PORT = \"5432\"\n",
    "    DW_USER = \"spark\"\n",
    "    DW_PASS = \"Brooklyn_2025!\"\n",
    "    DW_BSEDW_DATABASE = \"bsedw\"\n",
    "    #Use psycopg2 for interacting with PostgreSQL from the Python scripting language.\n",
    "    connection = psycopg2.connect(\n",
    "            user = DW_USER,\n",
    "            password = DW_PASS,\n",
    "            host = DW_HOST,\n",
    "            port = DW_PORT,\n",
    "            database = DW_BSEDW_DATABASE\n",
    "    )\n",
    "#Edit your query below (between the ''' and '''):\n",
    "\n",
    "    query = '''\n",
    " SELECT event_date, event_time, count (*)\n",
    "        FROM archtics_new.v_attendance_scans vas\n",
    "        WHERE \n",
    "            result_code_desc = 'Initial Entry'\n",
    "        group by 1, 2\n",
    "    '''\n",
    "    test = pd.read_sql(query, con = connection)\n",
    "\n",
    "    return(test)\n",
    "\n",
    "run_query()\n",
    "attendance = run_query()\n",
    "print(attendance)"
   ]
  },
  {
   "cell_type": "code",
   "execution_count": 19,
   "id": "867b7e30",
   "metadata": {},
   "outputs": [
    {
     "name": "stderr",
     "output_type": "stream",
     "text": [
      "C:\\Users\\spark\\AppData\\Local\\Temp\\ipykernel_30220\\266808623.py:5: UserWarning: Could not infer format, so each element will be parsed individually, falling back to `dateutil`. To ensure parsing is consistent and as-expected, please specify a format.\n",
      "  attendance['event_time'] = pd.to_datetime(attendance['event_time']).dt.time\n"
     ]
    }
   ],
   "source": [
    "# Fix attendance data formatting for successful merge\n",
    "attendance['event_date'] = pd.to_datetime(attendance['event_date'])\n",
    "# Convert attendance event_time from string to time object (key fix!)\n",
    "if isinstance(attendance['event_time'].iloc[0], str):\n",
    "    attendance['event_time'] = pd.to_datetime(attendance['event_time']).dt.time\n",
    "elif isinstance(attendance['event_time'].iloc[0], pd.Timestamp):\n",
    "    attendance['event_time'] = attendance['event_time'].dt.time\n",
    "\n",
    "# Save to CSV\n",
    "attendance.to_csv('attendance.csv', index=False) "
   ]
  },
  {
   "cell_type": "code",
   "execution_count": 20,
   "id": "8bdd9004",
   "metadata": {},
   "outputs": [
    {
     "name": "stdout",
     "output_type": "stream",
     "text": [
      "\n",
      "=== Merging with attendance data ===\n",
      "After attendance merge shape: (209802, 26)\n",
      "Attendance matches: 209802 out of 209802 records (100.0%)\n",
      "After attendance merge columns: ['event_name', 'event_name_long', 'event_date', 'event_time', 'event_day', 'starttime', 'team', 'event_type', 'minor_category', 'property', 'numberinline', 'relative start (minutes)', 'wait time (minutes)', 'time category', '5_minute_bucket', 'queue_mean_5', 'day_of_week', 'queue_slope_5', 'hour', 'hour_sin', 'hour_cos', 'day_sin', 'day_cos', 'minute_sin', 'minute_cos', 'count']\n",
      "\n",
      "=== Final df summary ===\n",
      "Final df shape: (209802, 26)\n",
      "Final df columns: ['event_name', 'event_name_long', 'event_date', 'event_time', 'event_day', 'starttime', 'team', 'event_type', 'minor_category', 'property', 'numberinline', 'relative start (minutes)', 'wait time (minutes)', 'time category', '5_minute_bucket', 'queue_mean_5', 'day_of_week', 'queue_slope_5', 'hour', 'hour_sin', 'hour_cos', 'day_sin', 'day_cos', 'minute_sin', 'minute_cos', 'count']\n",
      "Records with both attendance and category data: 209802\n",
      "\n",
      "Sample of final df:\n",
      "  event_date event_time event_day  count\n",
      "0 2023-09-22   20:00:00       FRI  11260\n",
      "1 2023-09-22   20:00:00       FRI  11260\n",
      "2 2023-09-22   20:00:00       FRI  11260\n",
      "3 2023-09-22   20:00:00       FRI  11260\n",
      "4 2023-09-22   20:00:00       FRI  11260\n"
     ]
    }
   ],
   "source": [
    "\n",
    "# Now perform the merges properly with fixed formatting\n",
    "print(\"\\n=== Merging with attendance data ===\")\n",
    "df_merged = pd.merge(df, attendance, on=['event_date', 'event_time'], how='left', suffixes=('', '_attendance'))\n",
    "attendance_matches = df_merged['count'].notna().sum()\n",
    "print(f\"After attendance merge shape: {df_merged.shape}\")\n",
    "print(f\"Attendance matches: {attendance_matches} out of {len(df_merged)} records ({attendance_matches/len(df_merged)*100:.1f}%)\")\n",
    "print(\"After attendance merge columns:\", df_merged.columns.tolist())\n",
    "\n",
    "# Update the main df variable\n",
    "df = df_merged.copy()\n",
    "\n",
    "print(\"\\n=== Final df summary ===\")\n",
    "print(\"Final df shape:\", df.shape)\n",
    "print(\"Final df columns:\", df.columns.tolist())\n",
    "print(f\"Records with both attendance and category data: {((df['count'].notna()) & (df['minor_category'].notna())).sum()}\")\n",
    "print(\"\\nSample of final df:\")\n",
    "print(df[['event_date', 'event_time', 'event_day', 'count']].head())"
   ]
  },
  {
   "cell_type": "code",
   "execution_count": 21,
   "id": "d06b6623",
   "metadata": {},
   "outputs": [
    {
     "name": "stdout",
     "output_type": "stream",
     "text": [
      "Number of rows with NaN count: 0\n",
      "Percentage of rows with NaN count: 0.0%\n"
     ]
    }
   ],
   "source": [
    "# Check rows with NaN count values\n",
    "nan_count_rows = df[df['count'].isna()]\n",
    "\n",
    "print(f\"Number of rows with NaN count: {len(nan_count_rows)}\")\n",
    "print(f\"Percentage of rows with NaN count: {len(nan_count_rows)/len(df)*100:.1f}%\")"
   ]
  },
  {
   "cell_type": "code",
   "execution_count": 22,
   "id": "45674a52",
   "metadata": {},
   "outputs": [
    {
     "data": {
      "text/plain": [
       "Series([], Name: event_name_long, dtype: object)"
      ]
     },
     "execution_count": 22,
     "metadata": {},
     "output_type": "execute_result"
    }
   ],
   "source": [
    "nan_count_rows['event_name_long'].drop_duplicates()"
   ]
  },
  {
   "cell_type": "code",
   "execution_count": null,
   "id": "d3f5bbc5",
   "metadata": {},
   "outputs": [],
   "source": []
  },
  {
   "cell_type": "code",
   "execution_count": null,
   "id": "e227983b",
   "metadata": {},
   "outputs": [],
   "source": []
  },
  {
   "cell_type": "markdown",
   "id": "ef26ec10",
   "metadata": {},
   "source": [
    "### Tiers"
   ]
  },
  {
   "cell_type": "code",
   "execution_count": 23,
   "id": "600d72e7",
   "metadata": {},
   "outputs": [
    {
     "name": "stderr",
     "output_type": "stream",
     "text": [
      "C:\\Users\\spark\\AppData\\Local\\Temp\\ipykernel_30220\\4197084525.py:49: UserWarning: pandas only supports SQLAlchemy connectable (engine/connection) or database string URI or sqlite3 DBAPI2 connection. Other DBAPI2 objects are not tested. Please consider using SQLAlchemy.\n",
      "  test = pd.read_sql(query, con = connection)\n"
     ]
    },
    {
     "name": "stdout",
     "output_type": "stream",
     "text": [
      "     event_date tier\n",
      "0    2023-05-21    1\n",
      "1    2023-05-27    2\n",
      "2    2023-06-04    2\n",
      "3    2023-06-07    3\n",
      "4    2023-06-11    2\n",
      "..          ...  ...\n",
      "188  2025-04-03    4\n",
      "189  2025-04-06    5\n",
      "190  2025-04-08    6\n",
      "191  2025-04-10    6\n",
      "192  2025-04-13    2\n",
      "\n",
      "[193 rows x 2 columns]\n"
     ]
    }
   ],
   "source": [
    "def run_query():\n",
    "#Connect with the database\n",
    "    DW_HOST = \"172.22.12.130\"\n",
    "    DW_PORT = \"5432\"\n",
    "    DW_USER = \"spark\"\n",
    "    DW_PASS = \"Brooklyn_2025!\"\n",
    "    DW_BSEDW_DATABASE = \"bsedw\"\n",
    "    #Use psycopg2 for interacting with PostgreSQL from the Python scripting language.\n",
    "    connection = psycopg2.connect(\n",
    "            user = DW_USER,\n",
    "            password = DW_PASS,\n",
    "            host = DW_HOST,\n",
    "            port = DW_PORT,\n",
    "            database = DW_BSEDW_DATABASE\n",
    "    )\n",
    "#Edit your query below (between the ''' and '''):\n",
    "\n",
    "    query = '''\n",
    "select event_date, tier::text\n",
    "from bi.liberty_season_23 ls \n",
    "\n",
    "union all \n",
    "\n",
    "select \"Date\"::date as event_date, \"Individual Tier\"::text  as tier\n",
    "from bi.liberty_season_24 ls \n",
    "\n",
    "union all \n",
    "\n",
    "select event_date, \"start_of_season_individual_tier\" as tier\n",
    "from bi.liberty_season_25 ls\n",
    "\n",
    "union all\n",
    "\n",
    "select event_date, tier::text\n",
    "from bi.nets_season_22 ns\n",
    "\n",
    "union all\n",
    "\n",
    "select event_date, tier::text\n",
    "from bi.nets_season_23 ns\n",
    "\n",
    "union all\n",
    "\n",
    "select event_date, tier::text\n",
    "from bi.nets_season_24 ns\n",
    "\n",
    "\n",
    "    '''\n",
    "    test = pd.read_sql(query, con = connection)\n",
    "\n",
    "    return(test)\n",
    "\n",
    "run_query()\n",
    "tiers = run_query()\n",
    "print(tiers)"
   ]
  },
  {
   "cell_type": "code",
   "execution_count": 24,
   "id": "cc357752",
   "metadata": {},
   "outputs": [],
   "source": [
    "# Convert event_date to datetime\n",
    "tiers['event_date'] = pd.to_datetime(tiers['event_date'])"
   ]
  },
  {
   "cell_type": "code",
   "execution_count": 25,
   "id": "30eb474e",
   "metadata": {},
   "outputs": [
    {
     "name": "stdout",
     "output_type": "stream",
     "text": [
      "Unique tier values after cleaning: ['0', '1', '2', '3', '4', '5', '6', '7', '8']\n"
     ]
    },
    {
     "name": "stderr",
     "output_type": "stream",
     "text": [
      "<>:3: SyntaxWarning: invalid escape sequence '\\d'\n",
      "<>:3: SyntaxWarning: invalid escape sequence '\\d'\n",
      "C:\\Users\\spark\\AppData\\Local\\Temp\\ipykernel_30220\\1622986667.py:3: SyntaxWarning: invalid escape sequence '\\d'\n",
      "  tiers['tier'] = tiers['tier'].str.extract('(\\d+)')[0]  # Extract only numeric part\n"
     ]
    }
   ],
   "source": [
    "# Clean tier values - convert \"+1\" to \"1\" and ensure only numeric values\n",
    "tiers['tier'] = tiers['tier'].astype(str).str.replace('+', '', regex=False)\n",
    "tiers['tier'] = tiers['tier'].str.extract('(\\d+)')[0]  # Extract only numeric part\n",
    "print(\"Unique tier values after cleaning:\", sorted(tiers['tier'].unique()))"
   ]
  },
  {
   "cell_type": "code",
   "execution_count": 26,
   "id": "75a34348",
   "metadata": {},
   "outputs": [],
   "source": [
    "# Save to CSV\n",
    "tiers.to_csv('tiers.csv', index=False) "
   ]
  },
  {
   "cell_type": "code",
   "execution_count": 27,
   "id": "e922389a",
   "metadata": {},
   "outputs": [
    {
     "data": {
      "text/plain": [
       "array(['1', '2', '3', '4', '6', '7', '5', '0', '8'], dtype=object)"
      ]
     },
     "execution_count": 27,
     "metadata": {},
     "output_type": "execute_result"
    }
   ],
   "source": [
    "tiers['tier'].unique()"
   ]
  },
  {
   "cell_type": "code",
   "execution_count": null,
   "id": "860b9ba8",
   "metadata": {},
   "outputs": [],
   "source": []
  },
  {
   "cell_type": "markdown",
   "id": "108b33ff",
   "metadata": {},
   "source": [
    "#### Merging Tiers and DF"
   ]
  },
  {
   "cell_type": "code",
   "execution_count": 28,
   "id": "481f3531",
   "metadata": {},
   "outputs": [],
   "source": [
    "# Filter tiers to match only event_dates in df\n",
    "tiers_filtered = tiers[tiers['event_date'].isin(df['event_date'].unique())]\n",
    "\n",
    "# Merge with df (now only dates that exist in df will be merged in)\n",
    "df_with_tiers = df.merge(tiers_filtered, on='event_date', how='left')"
   ]
  },
  {
   "cell_type": "code",
   "execution_count": 29,
   "id": "7bb016dd",
   "metadata": {},
   "outputs": [
    {
     "name": "stdout",
     "output_type": "stream",
     "text": [
      "                                event_name_long event_date  \\\n",
      "82899      New York Liberty vs. Connecticut Sun 2023-09-01   \n",
      "83699   New York Liberty vs. Washington Mystics 2023-09-10   \n",
      "182895       New York Liberty vs. Indiana Fever 2024-05-18   \n",
      "184076       New York Liberty vs. Seattle Storm 2024-05-20   \n",
      "184838         New York Liberty vs. Chicago Sky 2024-05-23   \n",
      "\n",
      "                             team tier  \n",
      "82899   Connecticut Sun              2  \n",
      "83699   Washington Mystics           1  \n",
      "182895  Indiana Fever                1  \n",
      "184076  Seattle Storm                4  \n",
      "184838  Chicago Sky                  4  \n"
     ]
    }
   ],
   "source": [
    "# Check if merge worked \n",
    "df_liberty = df_with_tiers[df_with_tiers[\"property\"] == \"Liberty\"]\n",
    "df_liberty_check = df_liberty[['event_name_long', 'event_date', 'team', 'tier']].drop_duplicates().sort_values('event_date')\n",
    "print(df_liberty_check.head())"
   ]
  },
  {
   "cell_type": "markdown",
   "id": "6f0f3882",
   "metadata": {},
   "source": [
    "Fill in missing tier rows with average of tiers for the teams they played historically"
   ]
  },
  {
   "cell_type": "code",
   "execution_count": 30,
   "id": "1f0c665f",
   "metadata": {},
   "outputs": [
    {
     "name": "stdout",
     "output_type": "stream",
     "text": [
      "Missing tiers: 125014 out of 209802 rows (59.6%)\n"
     ]
    }
   ],
   "source": [
    "# Handle missing tiers\n",
    "# Check how many events are missing tier information\n",
    "missing_tiers = df_with_tiers['tier'].isna().sum()\n",
    "total_rows = len(df_with_tiers)\n",
    "print(f\"Missing tiers: {missing_tiers} out of {total_rows} rows ({missing_tiers/total_rows*100:.1f}%)\")"
   ]
  },
  {
   "cell_type": "code",
   "execution_count": 31,
   "id": "f0bc8ae2",
   "metadata": {},
   "outputs": [
    {
     "name": "stdout",
     "output_type": "stream",
     "text": [
      "Missing tier analysis by property:\n",
      "               total_rows  missing_tiers  missing_percentage\n",
      "property                                                    \n",
      "Barclays                0         123519                 inf\n",
      "Brooklyn Nets       63641           1393                 2.2\n",
      "Liberty             21147            102                 0.5\n"
     ]
    }
   ],
   "source": [
    "# Analyze missing tier values by property\n",
    "tier_analysis = df_with_tiers.groupby('property').agg({\n",
    "    'tier': ['count', lambda x: x.isna().sum()]\n",
    "}).round(2)\n",
    "\n",
    "# Flatten column names\n",
    "tier_analysis.columns = ['total_rows', 'missing_tiers']\n",
    "\n",
    "# Calculate percentages\n",
    "tier_analysis['missing_percentage'] = (tier_analysis['missing_tiers'] / tier_analysis['total_rows'] * 100).round(1)\n",
    "\n",
    "print(\"Missing tier analysis by property:\")\n",
    "print(tier_analysis.sort_values('missing_percentage', ascending=False))"
   ]
  },
  {
   "cell_type": "code",
   "execution_count": 32,
   "id": "f0d81314",
   "metadata": {},
   "outputs": [],
   "source": [
    "# Extract known tiers only\n",
    "known_tiers = df_with_tiers[\n",
    "    df_with_tiers['property'].isin(['Liberty', 'Brooklyn Nets']) & df_with_tiers['tier'].notna()\n",
    "]\n",
    "\n",
    "# You may need to extract team if not already done\n",
    "# Assuming event_name format: \"NY Liberty vs Las Vegas Aces\"\n",
    "def extract_team(team):\n",
    "    if pd.isna(team):\n",
    "        return None\n",
    "    return str(team).strip()\n",
    "\n",
    "# Update team column if it exists, otherwise create it\n",
    "if 'team' in df_with_tiers.columns:\n",
    "    df_with_tiers['team'] = df_with_tiers['team'].apply(extract_team)\n",
    "else:\n",
    "    df_with_tiers['team'] = df_with_tiers['event_name'].apply(lambda x: x.split('vs')[-1].strip() if 'vs' in x else None)"
   ]
  },
  {
   "cell_type": "code",
   "execution_count": 33,
   "id": "73dea207",
   "metadata": {},
   "outputs": [],
   "source": [
    "# Create mapping from (property, team) -> average tier\n",
    "# First convert tier to numeric for averaging\n",
    "known_tiers_numeric = known_tiers.copy()\n",
    "known_tiers_numeric['tier_numeric'] = pd.to_numeric(known_tiers_numeric['tier'], errors='coerce')\n",
    "\n",
    "tier_lookup = (\n",
    "    known_tiers_numeric.groupby(['property', 'team'])['tier_numeric']\n",
    "    .mean()  # average tier per matchup \n",
    "    .round()  # round to nearest whole tier\n",
    "    .astype(str)  # convert back to string to match original tier format\n",
    "    .reset_index()\n",
    "    .rename(columns={'tier_numeric': 'tier'})\n",
    ")"
   ]
  },
  {
   "cell_type": "code",
   "execution_count": 34,
   "id": "36a8fc56",
   "metadata": {},
   "outputs": [],
   "source": [
    "# Clean and standardize team names in both dataframes\n",
    "df_with_tiers['team'] = df_with_tiers['team'].str.strip().str.lower()\n",
    "tier_lookup['team'] = tier_lookup['team'].str.strip().str.lower()\n"
   ]
  },
  {
   "cell_type": "code",
   "execution_count": 35,
   "id": "a7b76fbc",
   "metadata": {},
   "outputs": [],
   "source": [
    "# Merge back to assign estimated tiers to missing\n",
    "df_with_missing_tiers = df_with_tiers[df_with_tiers['tier'].isna()]\n",
    "df_with_missing_tiers = df_with_missing_tiers.merge(\n",
    "    tier_lookup,\n",
    "    on=['property', 'team'],\n",
    "    how='left',\n",
    "    suffixes=('', '_estimated')\n",
    ")\n",
    "\n",
    "# Fill in missing values\n",
    "df_with_tiers.loc[df_with_tiers['tier'].isna(), 'tier'] = df_with_missing_tiers['tier_estimated'].values"
   ]
  },
  {
   "cell_type": "code",
   "execution_count": 36,
   "id": "59d72b25",
   "metadata": {},
   "outputs": [
    {
     "name": "stdout",
     "output_type": "stream",
     "text": [
      "Missing tier analysis by property:\n",
      "               total_rows  missing_tiers  missing_percentage\n",
      "property                                                    \n",
      "Barclays                0         123519                 inf\n",
      "Brooklyn Nets       65034              0                 0.0\n",
      "Liberty             21249              0                 0.0\n"
     ]
    }
   ],
   "source": [
    "# Check if the Nets and Liberty rows are all filed \n",
    "tier_analysis = df_with_tiers.groupby('property').agg({\n",
    "    'tier': ['count', lambda x: x.isna().sum()]\n",
    "}).round(2)\n",
    "\n",
    "# Flatten column names\n",
    "tier_analysis.columns = ['total_rows', 'missing_tiers']\n",
    "\n",
    "# Calculate percentages\n",
    "tier_analysis['missing_percentage'] = (tier_analysis['missing_tiers'] / tier_analysis['total_rows'] * 100).round(1)\n",
    "\n",
    "print(\"Missing tier analysis by property:\")\n",
    "print(tier_analysis.sort_values('missing_percentage', ascending=False))"
   ]
  },
  {
   "cell_type": "code",
   "execution_count": 37,
   "id": "8e8ebf62",
   "metadata": {},
   "outputs": [],
   "source": [
    "# # Filter Brooklyn Nets data\n",
    "# nets_data = df_with_tiers[df_with_tiers['property'] == 'Brooklyn Nets']\n",
    "# print(f\"Total Brooklyn Nets rows: {len(nets_data)}\")\n",
    "\n",
    "# # Check missing tiers in Brooklyn Nets\n",
    "# nets_missing_tiers = nets_data[nets_data['tier'].isna()]\n",
    "# nets_with_tiers = nets_data[nets_data['tier'].notna()]\n",
    "\n",
    "# print(f\"Brooklyn Nets rows with missing tiers: {len(nets_missing_tiers)}\")\n",
    "# print(f\"Brooklyn Nets rows with tiers: {len(nets_with_tiers)}\")\n",
    "\n",
    "# # Analyze teams with missing tiers\n",
    "# print(\"\\n--- Teams with missing tiers ---\")\n",
    "# missing_teams = nets_missing_tiers['team'].value_counts()\n",
    "# print(missing_teams.head(10))\n",
    "\n",
    "# df_with_tiers[df_with_tiers['team'] == 'test - brooklyn nets']"
   ]
  },
  {
   "cell_type": "code",
   "execution_count": null,
   "id": "97a4b78f",
   "metadata": {},
   "outputs": [],
   "source": []
  },
  {
   "cell_type": "markdown",
   "id": "56ef54ba",
   "metadata": {},
   "source": [
    "#### Missing tiers for all Barclays Events"
   ]
  },
  {
   "cell_type": "code",
   "execution_count": 38,
   "id": "21d4f244",
   "metadata": {},
   "outputs": [
    {
     "name": "stdout",
     "output_type": "stream",
     "text": [
      "=== CORRELATION ANALYSIS: Tier vs Features by Property ===\n",
      "\n",
      "--- Liberty ---\n",
      "Top correlations with tier:\n",
      "  day_of_week              : -0.520\n",
      "  day_sin                  :  0.482\n",
      "  hour_sin                 : -0.362\n",
      "  hour                     :  0.354\n",
      "  hour_cos                 :  0.348\n",
      "  count                    : -0.208\n",
      "  day_cos                  : -0.128\n",
      "  wait time (minutes)      : -0.072\n",
      "  queue_mean_5             : -0.028\n",
      "  numberinline             : -0.022\n",
      "\n",
      "--- Brooklyn Nets ---\n",
      "Top correlations with tier:\n",
      "  count                    : -0.585\n",
      "  queue_mean_5             : -0.130\n",
      "  hour_sin                 :  0.125\n",
      "  wait time (minutes)      : -0.121\n",
      "  hour                     : -0.121\n",
      "  day_cos                  : -0.118\n",
      "  hour_cos                 : -0.118\n",
      "  numberinline             : -0.089\n",
      "  5_minute_bucket          :  0.029\n",
      "  relative start (minutes) :  0.029\n",
      "\n"
     ]
    }
   ],
   "source": [
    "# Calculate correlation between all numeric features and tier for each property\n",
    "import warnings\n",
    "warnings.filterwarnings('ignore')\n",
    "\n",
    "# Convert tier to numeric for correlation analysis\n",
    "df_corr = df_with_tiers.copy()\n",
    "df_corr['tier_numeric'] = pd.to_numeric(df_corr['tier'].str.replace('T', ''), errors='coerce')\n",
    "\n",
    "# Select numeric columns for correlation analysis\n",
    "numeric_cols = df_corr.select_dtypes(include=[np.number]).columns.tolist()\n",
    "# Remove tier_numeric from the list to avoid self-correlation\n",
    "if 'tier_numeric' in numeric_cols:\n",
    "    numeric_cols.remove('tier_numeric')\n",
    "\n",
    "print(\"=== CORRELATION ANALYSIS: Tier vs Features by Property ===\\n\")\n",
    "\n",
    "for prop in ['Liberty', 'Brooklyn Nets']:\n",
    "    prop_data = df_corr[df_corr['property'] == prop]\n",
    "    \n",
    "    if len(prop_data) == 0:\n",
    "        continue\n",
    "        \n",
    "    print(f\"--- {prop} ---\")\n",
    "    \n",
    "    # Calculate correlations with tier\n",
    "    correlations = []\n",
    "    for col in numeric_cols:\n",
    "        if col in prop_data.columns and prop_data[col].notna().sum() > 0:\n",
    "            corr = prop_data[col].corr(prop_data['tier_numeric'])\n",
    "            if not pd.isna(corr):\n",
    "                correlations.append((col, corr))\n",
    "    \n",
    "    # Sort by absolute correlation value\n",
    "    correlations.sort(key=lambda x: abs(x[1]), reverse=True)\n",
    "    \n",
    "    print(\"Top correlations with tier:\")\n",
    "    for col, corr in correlations[:10]:  # Show top 10\n",
    "        print(f\"  {col:25s}: {corr:6.3f}\")\n",
    "    \n",
    "    print()"
   ]
  },
  {
   "cell_type": "code",
   "execution_count": 39,
   "id": "524cddbe",
   "metadata": {},
   "outputs": [
    {
     "name": "stdout",
     "output_type": "stream",
     "text": [
      "--- ALL PROPERTIES COMBINED ---\n"
     ]
    },
    {
     "name": "stdout",
     "output_type": "stream",
     "text": [
      "Top correlations with tier (all properties):\n",
      "  hour_sin                 : -0.178\n",
      "  day_of_week              : -0.159\n",
      "  count                    : -0.144\n",
      "  hour                     :  0.125\n",
      "  queue_mean_5             : -0.112\n",
      "  hour_cos                 :  0.111\n",
      "  day_sin                  :  0.108\n",
      "  wait time (minutes)      : -0.105\n",
      "  numberinline             : -0.080\n",
      "  day_cos                  : -0.073\n"
     ]
    }
   ],
   "source": [
    "\n",
    "# Also show overall correlations (all properties combined)\n",
    "print(\"--- ALL PROPERTIES COMBINED ---\")\n",
    "correlations_all = []\n",
    "for col in numeric_cols:\n",
    "    if col in df_corr.columns and df_corr[col].notna().sum() > 0:\n",
    "        corr = df_corr[col].corr(df_corr['tier_numeric'])\n",
    "        if not pd.isna(corr):\n",
    "            correlations_all.append((col, corr))\n",
    "\n",
    "correlations_all.sort(key=lambda x: abs(x[1]), reverse=True)\n",
    "\n",
    "print(\"Top correlations with tier (all properties):\")\n",
    "for col, corr in correlations_all[:10]:\n",
    "    print(f\"  {col:25s}: {corr:6.3f}\")"
   ]
  },
  {
   "cell_type": "code",
   "execution_count": null,
   "id": "e9c1e315",
   "metadata": {},
   "outputs": [],
   "source": []
  },
  {
   "cell_type": "markdown",
   "id": "3ba16c77",
   "metadata": {},
   "source": [
    "#### Using attendence to create tiers for Barlcays as placeholder"
   ]
  },
  {
   "cell_type": "code",
   "execution_count": 40,
   "id": "40496a1b",
   "metadata": {},
   "outputs": [],
   "source": [
    "# Step 1: Filter Barclays events with attendance data\n",
    "barclays_attendance = df_with_tiers[\n",
    "    (df_with_tiers['property'] == 'Barclays') & \n",
    "    (df_with_tiers['count'].notna())\n",
    "]\n",
    "\n",
    "# Step 2: Use qcut to generate 8-tier bins\n",
    "barclays_attendance['tier_numeric'] = pd.qcut(\n",
    "    barclays_attendance['count'], \n",
    "    q=8, \n",
    "    labels=[str(i) for i in range(8, 0, -1)]  # Tier 8 = highest attendance, Tier 1 = lowest\n",
    ")\n",
    "\n",
    "# Step 3: Build lookup table for event_date → estimated tier\n",
    "attendance_tier_map = barclays_attendance[['event_date', 'tier_numeric']].drop_duplicates()\n",
    "\n",
    "# Step 4: Merge into df_with_tiers to assign estimated tier\n",
    "df_with_tiers = df_with_tiers.merge(\n",
    "    attendance_tier_map,\n",
    "    on='event_date',\n",
    "    how='left',\n",
    "    suffixes=('', '_estimated')\n",
    ")\n",
    "\n",
    "# Step 5: Fill only missing Barclays tiers with the estimated ones\n",
    "mask = (df_with_tiers['property'] == 'Barclays') & (df_with_tiers['tier'].isna())\n",
    "df_with_tiers.loc[mask, 'tier'] = df_with_tiers.loc[mask, 'tier_numeric']\n",
    "\n",
    "# Drop temporary column\n",
    "df_with_tiers.drop(columns=['tier_numeric'], inplace=True)\n"
   ]
  },
  {
   "cell_type": "code",
   "execution_count": 41,
   "id": "b75d2f11",
   "metadata": {},
   "outputs": [
    {
     "name": "stdout",
     "output_type": "stream",
     "text": [
      "Missing tier analysis by property:\n",
      "               total_rows  missing_tiers  missing_percentage\n",
      "property                                                    \n",
      "Barclays           137375              0                 0.0\n",
      "Brooklyn Nets       65034              0                 0.0\n",
      "Liberty             21249              0                 0.0\n"
     ]
    }
   ],
   "source": [
    "# Check if the Nets and Liberty rows are all filed \n",
    "tier_analysis = df_with_tiers.groupby('property').agg({\n",
    "    'tier': ['count', lambda x: x.isna().sum()]\n",
    "}).round(2)\n",
    "\n",
    "# Flatten column names\n",
    "tier_analysis.columns = ['total_rows', 'missing_tiers']\n",
    "\n",
    "# Calculate percentages\n",
    "tier_analysis['missing_percentage'] = (tier_analysis['missing_tiers'] / tier_analysis['total_rows'] * 100).round(1)\n",
    "\n",
    "print(\"Missing tier analysis by property:\")\n",
    "print(tier_analysis.sort_values('missing_percentage', ascending=False))"
   ]
  },
  {
   "cell_type": "code",
   "execution_count": 42,
   "id": "5fe550ab",
   "metadata": {},
   "outputs": [],
   "source": [
    "df_with_tiers['tier'] = df_with_tiers['tier'].astype(float)"
   ]
  },
  {
   "cell_type": "markdown",
   "id": "3b5e41d8",
   "metadata": {},
   "source": [
    "### Weather"
   ]
  },
  {
   "cell_type": "markdown",
   "id": "e5c2d43a",
   "metadata": {},
   "source": [
    "#### Historical"
   ]
  },
  {
   "cell_type": "code",
   "execution_count": 43,
   "id": "d0503ca6",
   "metadata": {},
   "outputs": [],
   "source": [
    "# Define parameters for historical weather data\n",
    "latitude = 40.684908   # Barclays Center\n",
    "longitude = -73.977862\n",
    "start_date = str(df_with_tiers['event_date'].min().date())\n",
    "end_date = '2025-07-27' #str(df_with_tiers['event_date'].max().date())\n",
    "\n",
    "# API Endpoint\n",
    "url = f\"https://archive-api.open-meteo.com/v1/archive?latitude={latitude}&longitude={longitude}&start_date={start_date}&end_date={end_date}&daily=temperature_2m_max,temperature_2m_min,precipitation_sum&timezone=auto\"\n",
    "\n",
    "# Make request\n",
    "response = requests.get(url)\n",
    "data = response.json()\n",
    "\n",
    "# Convert to DataFrame\n",
    "weather = pd.DataFrame(data[\"daily\"])\n",
    "weather[\"time\"] = pd.to_datetime(weather[\"time\"])  # Convert time to datetime format\n",
    "\n",
    "weather = weather.rename(columns={'time': 'event_date'})"
   ]
  },
  {
   "cell_type": "code",
   "execution_count": 44,
   "id": "03de95aa",
   "metadata": {},
   "outputs": [
    {
     "data": {
      "text/html": [
       "<div>\n",
       "<style scoped>\n",
       "    .dataframe tbody tr th:only-of-type {\n",
       "        vertical-align: middle;\n",
       "    }\n",
       "\n",
       "    .dataframe tbody tr th {\n",
       "        vertical-align: top;\n",
       "    }\n",
       "\n",
       "    .dataframe thead th {\n",
       "        text-align: right;\n",
       "    }\n",
       "</style>\n",
       "<table border=\"1\" class=\"dataframe\">\n",
       "  <thead>\n",
       "    <tr style=\"text-align: right;\">\n",
       "      <th></th>\n",
       "      <th>event_date</th>\n",
       "      <th>temperature_2m_max</th>\n",
       "      <th>temperature_2m_min</th>\n",
       "      <th>precipitation_sum</th>\n",
       "    </tr>\n",
       "  </thead>\n",
       "  <tbody>\n",
       "    <tr>\n",
       "      <th>0</th>\n",
       "      <td>2023-09-01</td>\n",
       "      <td>23.9</td>\n",
       "      <td>13.6</td>\n",
       "      <td>0.0</td>\n",
       "    </tr>\n",
       "    <tr>\n",
       "      <th>1</th>\n",
       "      <td>2023-09-02</td>\n",
       "      <td>24.7</td>\n",
       "      <td>12.5</td>\n",
       "      <td>0.0</td>\n",
       "    </tr>\n",
       "    <tr>\n",
       "      <th>2</th>\n",
       "      <td>2023-09-03</td>\n",
       "      <td>32.4</td>\n",
       "      <td>18.4</td>\n",
       "      <td>0.3</td>\n",
       "    </tr>\n",
       "    <tr>\n",
       "      <th>3</th>\n",
       "      <td>2023-09-04</td>\n",
       "      <td>34.0</td>\n",
       "      <td>20.2</td>\n",
       "      <td>5.4</td>\n",
       "    </tr>\n",
       "    <tr>\n",
       "      <th>4</th>\n",
       "      <td>2023-09-05</td>\n",
       "      <td>34.5</td>\n",
       "      <td>22.1</td>\n",
       "      <td>0.0</td>\n",
       "    </tr>\n",
       "    <tr>\n",
       "      <th>...</th>\n",
       "      <td>...</td>\n",
       "      <td>...</td>\n",
       "      <td>...</td>\n",
       "      <td>...</td>\n",
       "    </tr>\n",
       "    <tr>\n",
       "      <th>691</th>\n",
       "      <td>2025-07-23</td>\n",
       "      <td>27.0</td>\n",
       "      <td>20.3</td>\n",
       "      <td>0.0</td>\n",
       "    </tr>\n",
       "    <tr>\n",
       "      <th>692</th>\n",
       "      <td>2025-07-24</td>\n",
       "      <td>28.9</td>\n",
       "      <td>20.6</td>\n",
       "      <td>0.0</td>\n",
       "    </tr>\n",
       "    <tr>\n",
       "      <th>693</th>\n",
       "      <td>2025-07-25</td>\n",
       "      <td>37.3</td>\n",
       "      <td>24.4</td>\n",
       "      <td>3.2</td>\n",
       "    </tr>\n",
       "    <tr>\n",
       "      <th>694</th>\n",
       "      <td>2025-07-26</td>\n",
       "      <td>28.4</td>\n",
       "      <td>23.6</td>\n",
       "      <td>0.0</td>\n",
       "    </tr>\n",
       "    <tr>\n",
       "      <th>695</th>\n",
       "      <td>2025-07-27</td>\n",
       "      <td>29.5</td>\n",
       "      <td>22.8</td>\n",
       "      <td>8.4</td>\n",
       "    </tr>\n",
       "  </tbody>\n",
       "</table>\n",
       "<p>696 rows × 4 columns</p>\n",
       "</div>"
      ],
      "text/plain": [
       "    event_date  temperature_2m_max  temperature_2m_min  precipitation_sum\n",
       "0   2023-09-01                23.9                13.6                0.0\n",
       "1   2023-09-02                24.7                12.5                0.0\n",
       "2   2023-09-03                32.4                18.4                0.3\n",
       "3   2023-09-04                34.0                20.2                5.4\n",
       "4   2023-09-05                34.5                22.1                0.0\n",
       "..         ...                 ...                 ...                ...\n",
       "691 2025-07-23                27.0                20.3                0.0\n",
       "692 2025-07-24                28.9                20.6                0.0\n",
       "693 2025-07-25                37.3                24.4                3.2\n",
       "694 2025-07-26                28.4                23.6                0.0\n",
       "695 2025-07-27                29.5                22.8                8.4\n",
       "\n",
       "[696 rows x 4 columns]"
      ]
     },
     "execution_count": 44,
     "metadata": {},
     "output_type": "execute_result"
    }
   ],
   "source": [
    "weather"
   ]
  },
  {
   "cell_type": "code",
   "execution_count": 45,
   "id": "07818555",
   "metadata": {},
   "outputs": [],
   "source": [
    "df_with_weather = df_with_tiers.merge(weather, on = 'event_date', how = 'left')"
   ]
  },
  {
   "cell_type": "code",
   "execution_count": 46,
   "id": "237003da",
   "metadata": {},
   "outputs": [
    {
     "name": "stdout",
     "output_type": "stream",
     "text": [
      "<class 'pandas.core.frame.DataFrame'>\n",
      "RangeIndex: 223658 entries, 0 to 223657\n",
      "Data columns (total 30 columns):\n",
      " #   Column                    Non-Null Count   Dtype         \n",
      "---  ------                    --------------   -----         \n",
      " 0   event_name                223658 non-null  object        \n",
      " 1   event_name_long           223658 non-null  object        \n",
      " 2   event_date                223658 non-null  datetime64[ns]\n",
      " 3   event_time                223658 non-null  object        \n",
      " 4   event_day                 223658 non-null  object        \n",
      " 5   starttime                 223658 non-null  datetime64[ns]\n",
      " 6   team                      223658 non-null  object        \n",
      " 7   event_type                223658 non-null  object        \n",
      " 8   minor_category            223658 non-null  object        \n",
      " 9   property                  223658 non-null  object        \n",
      " 10  numberinline              223658 non-null  int16         \n",
      " 11  relative start (minutes)  223658 non-null  int64         \n",
      " 12  wait time (minutes)       223658 non-null  float64       \n",
      " 13  time category             223658 non-null  object        \n",
      " 14  5_minute_bucket           223658 non-null  int64         \n",
      " 15  queue_mean_5              223658 non-null  float64       \n",
      " 16  day_of_week               223658 non-null  int32         \n",
      " 17  queue_slope_5             223658 non-null  float64       \n",
      " 18  hour                      223658 non-null  int32         \n",
      " 19  hour_sin                  223658 non-null  float64       \n",
      " 20  hour_cos                  223658 non-null  float64       \n",
      " 21  day_sin                   223658 non-null  float64       \n",
      " 22  day_cos                   223658 non-null  float64       \n",
      " 23  minute_sin                223658 non-null  float64       \n",
      " 24  minute_cos                223658 non-null  float64       \n",
      " 25  count                     223658 non-null  int64         \n",
      " 26  tier                      223658 non-null  float64       \n",
      " 27  temperature_2m_max        223658 non-null  float64       \n",
      " 28  temperature_2m_min        223658 non-null  float64       \n",
      " 29  precipitation_sum         223658 non-null  float64       \n",
      "dtypes: datetime64[ns](2), float64(13), int16(1), int32(2), int64(3), object(9)\n",
      "memory usage: 48.2+ MB\n"
     ]
    }
   ],
   "source": [
    "df_with_weather.info()"
   ]
  },
  {
   "cell_type": "code",
   "execution_count": 47,
   "id": "48c0fc2c",
   "metadata": {},
   "outputs": [],
   "source": [
    "df_with_weather.to_csv('df_with_weather.csv', index=False)"
   ]
  },
  {
   "cell_type": "code",
   "execution_count": null,
   "id": "3d582422",
   "metadata": {},
   "outputs": [],
   "source": []
  },
  {
   "cell_type": "markdown",
   "id": "16d415a0",
   "metadata": {},
   "source": [
    "### More Features"
   ]
  },
  {
   "cell_type": "code",
   "execution_count": 48,
   "id": "2adfef22",
   "metadata": {},
   "outputs": [],
   "source": [
    "# Interaction features\n",
    "df_with_weather['minute_minor_interaction'] = df_with_weather['relative start (minutes)'] * df_with_weather['minor_category'].astype('category').cat.codes\n",
    "df_with_weather['minute_sq'] = df_with_weather['relative start (minutes)']**2\n",
    "df_with_weather['property_minor_interaction'] = df_with_weather['property'].astype('category').cat.codes * df_with_weather['minor_category'].astype('category').cat.codes\n"
   ]
  },
  {
   "cell_type": "code",
   "execution_count": 49,
   "id": "ccf5f73b",
   "metadata": {},
   "outputs": [],
   "source": [
    "# Event-level intensity proxies =\n",
    "df_with_weather['log_queue_max30'] = (\n",
    "    df_with_weather.groupby('event_name')['queue_mean_5']\n",
    "      .transform(lambda s: np.log1p(s.rolling(30, 1).max()))\n",
    ")"
   ]
  },
  {
   "cell_type": "markdown",
   "id": "38d055aa",
   "metadata": {},
   "source": [
    "#### Events happening in NYC"
   ]
  },
  {
   "cell_type": "markdown",
   "id": "0cdbb460",
   "metadata": {},
   "source": [
    "##### TicketMaster"
   ]
  },
  {
   "cell_type": "code",
   "execution_count": 50,
   "id": "cc86ae81",
   "metadata": {},
   "outputs": [],
   "source": [
    "import requests, datetime as dt, pandas as pd, time\n",
    "\n",
    "# ---- static settings ----------------------------------------------------\n",
    "LAT, LON  = 40.6827, -73.9753          # Barclays Center\n",
    "RADIUS_MI = 12                         # search radius\n",
    "API_KEY   = \"YOUR_TICKETMASTER_KEY\"    # 32-char key from dev portal\n",
    "URL       = \"https://app.ticketmaster.com/discovery/v2/events.json\"\n",
    "\n",
    "# ---- single-day helper --------------------------------------------------\n",
    "def ticketmaster_day(day: dt.date,\n",
    "                     *,\n",
    "                     target_hour: int = 20,\n",
    "                     radius: int = RADIUS_MI,\n",
    "                     verbose: bool = False) -> dict:\n",
    "    \"\"\"Return daily aggregates of Ticketmaster events near Barclays Center.\"\"\"\n",
    "    params = {\n",
    "        \"latlong\"      : f\"{LAT},{LON}\",\n",
    "        \"radius\"       : radius,\n",
    "        \"unit\"         : \"miles\",\n",
    "        # \"size\"         : 200,                  # max per page\n",
    "        \"apikey\"       : API_KEY,\n",
    "        \"page\"         : 0,\n",
    "        \"startDateTime\": f\"{day:%Y-%m-%d}T00:00:00Z\",\n",
    "        \"endDateTime\"  : f\"{day:%Y-%m-%d}T23:59:59Z\",\n",
    "    }\n",
    "\n",
    "    all_events, caps = [], []\n",
    "\n",
    "    while True:\n",
    "        js = requests.get(URL, params=params, timeout=20).json()\n",
    "\n",
    "        # ---- error payload (bad key, rate-limit, etc.) -------------------\n",
    "        if \"errors\" in js or \"fault\" in js:\n",
    "            if verbose:\n",
    "                print(f\"Ticketmaster error {day}:\",\n",
    "                      js.get(\"errors\", js.get(\"fault\")))\n",
    "            return {\"event_date\": day,\n",
    "                    \"other_events\": 0,\n",
    "                    \"largest_capacity\": 0,\n",
    "                    \"concurrent_event\": 0}\n",
    "\n",
    "        evs = js.get(\"_embedded\", {}).get(\"events\", [])\n",
    "        all_events.extend(evs)\n",
    "\n",
    "        # venue capacities (if present)\n",
    "        for ev in evs:\n",
    "            for v in ev.get(\"_embedded\", {}).get(\"venues\", []):\n",
    "                cap = v.get(\"capacity\") or v.get(\"venueCapacity\")\n",
    "                if cap:\n",
    "                    caps.append(cap)\n",
    "                    break\n",
    "\n",
    "        # pagination guard\n",
    "        page = js.get(\"page\", {})\n",
    "        if page.get(\"number\", 0) >= page.get(\"totalPages\", 1) - 1:\n",
    "            break\n",
    "        params[\"page\"] += 1\n",
    "        time.sleep(0.05)        # stay under 5 req/s limit\n",
    "\n",
    "    # ---- concurrent flag: event starts ±1 h of 8 pm ----------------------\n",
    "    target_dt  = dt.datetime.combine(day, dt.time(target_hour))\n",
    "    concurrent = any(\n",
    "        abs(\n",
    "            (dt.datetime.fromisoformat(\n",
    "                 ev[\"dates\"][\"start\"][\"dateTime\"].replace(\"Z\", \"+00:00\"))\n",
    "             .replace(tzinfo=None)            # make naive\n",
    "             - target_dt).total_seconds()\n",
    "        ) < 3600\n",
    "        for ev in all_events\n",
    "        if ev.get(\"dates\", {}).get(\"start\", {}).get(\"dateTime\")\n",
    "    )\n",
    "\n",
    "    return {\n",
    "        \"event_date\"      : day,\n",
    "        \"other_events\"    : len(all_events),\n",
    "        \"largest_capacity\": max(caps) if caps else 0,\n",
    "        \"concurrent_event\": int(concurrent),\n",
    "    }\n",
    "\n",
    "# ---- date-range wrapper --------------------------------------------------\n",
    "def ticketmaster_range(start, end, **kwargs) -> pd.DataFrame:\n",
    "    \"\"\"Pull daily Ticketmaster stats from start to end (inclusive).\"\"\"\n",
    "    dates = pd.date_range(start, end).date\n",
    "    rows  = [ticketmaster_day(d, **kwargs) for d in dates]\n",
    "    return pd.DataFrame(rows)\n"
   ]
  },
  {
   "cell_type": "code",
   "execution_count": 51,
   "id": "6c5c0785",
   "metadata": {},
   "outputs": [
    {
     "name": "stdout",
     "output_type": "stream",
     "text": [
      "   event_date  other_events  largest_capacity  concurrent_event\n",
      "0  2023-09-01             0                 0                 0\n",
      "1  2023-09-02             0                 0                 0\n",
      "2  2023-09-03             0                 0                 0\n",
      "3  2023-09-04             0                 0                 0\n",
      "4  2023-09-05             0                 0                 0\n",
      "count    695.0\n",
      "mean       0.0\n",
      "std        0.0\n",
      "min        0.0\n",
      "25%        0.0\n",
      "50%        0.0\n",
      "75%        0.0\n",
      "max        0.0\n",
      "Name: other_events, dtype: float64\n"
     ]
    }
   ],
   "source": [
    "tm_df = ticketmaster_range(\n",
    "    df_with_weather['event_date'].min().date(),\n",
    "    df_with_weather['event_date'].max().date()\n",
    ")\n",
    "\n",
    "print(tm_df.head())\n",
    "print(tm_df['other_events'].describe())\n"
   ]
  },
  {
   "cell_type": "code",
   "execution_count": 52,
   "id": "8fc927f3",
   "metadata": {},
   "outputs": [],
   "source": [
    "tm_df.to_csv(\"tm_events_nearby.csv\", index=False)"
   ]
  },
  {
   "cell_type": "code",
   "execution_count": 53,
   "id": "d559c4f3",
   "metadata": {},
   "outputs": [
    {
     "name": "stdout",
     "output_type": "stream",
     "text": [
      "<class 'pandas.core.frame.DataFrame'>\n",
      "RangeIndex: 695 entries, 0 to 694\n",
      "Data columns (total 4 columns):\n",
      " #   Column            Non-Null Count  Dtype \n",
      "---  ------            --------------  ----- \n",
      " 0   event_date        695 non-null    object\n",
      " 1   other_events      695 non-null    int64 \n",
      " 2   largest_capacity  695 non-null    int64 \n",
      " 3   concurrent_event  695 non-null    int64 \n",
      "dtypes: int64(3), object(1)\n",
      "memory usage: 21.8+ KB\n"
     ]
    }
   ],
   "source": [
    "tm_df.info()"
   ]
  },
  {
   "cell_type": "code",
   "execution_count": 54,
   "id": "8e221446",
   "metadata": {},
   "outputs": [],
   "source": [
    "tm_df['event_date'] = pd.to_datetime(tm_df['event_date'])\n",
    "\n",
    "df_with_events = pd.merge(df_with_weather, tm_df, on='event_date', how='left', suffixes=('', '_tm'))"
   ]
  },
  {
   "cell_type": "code",
   "execution_count": 55,
   "id": "73d2b10b",
   "metadata": {},
   "outputs": [],
   "source": [
    "# # Filter and display rows where other_events > 0\n",
    "# df_with_events[df_with_events['other_events'] != 0]\n"
   ]
  },
  {
   "cell_type": "code",
   "execution_count": null,
   "id": "95c272cb",
   "metadata": {},
   "outputs": [],
   "source": []
  },
  {
   "cell_type": "markdown",
   "id": "489acc38",
   "metadata": {},
   "source": [
    "##### Eventbrite"
   ]
  },
  {
   "cell_type": "code",
   "execution_count": 56,
   "id": "895ba1d8",
   "metadata": {},
   "outputs": [],
   "source": [
    "# import requests, datetime as dt\n",
    "\n",
    "# EB_TOKEN = \"E33VLQUO6WNXUUZGKITS\"\n",
    "# LAT, LON  = 40.6827, -73.9753          # Barclays\n",
    "# RADIUS_KM = 15                         # ≈ 9.3 mi\n",
    "\n",
    "# def eventbrite_day(day: dt.date) -> dict:\n",
    "#     url = \"https://www.eventbriteapi.com/v3/events/search/\"\n",
    "#     params = {\n",
    "#         \"location.latitude\" : LAT,\n",
    "#         \"location.longitude\": LON,\n",
    "#         \"location.within\"   : f\"{RADIUS_KM}km\",\n",
    "#         \"start_date.range_start\": f\"{day:%Y-%m-%d}T00:00:00Z\",\n",
    "#         \"start_date.range_end\"  : f\"{day:%Y-%m-%d}T23:59:59Z\",\n",
    "#         \"expand\": \"venue\",          # so we can read capacity if present\n",
    "#         \"page\": 1,\n",
    "#     }\n",
    "#     headers = {\"Authorization\": f\"Bearer {EB_TOKEN}\"}\n",
    "\n",
    "#     all_events, capacities = [], []\n",
    "#     while True:\n",
    "#         js = requests.get(url, params=params, headers=headers, timeout=15).json()\n",
    "#         all_events += js[\"events\"]\n",
    "\n",
    "#         for ev in js[\"events\"]:\n",
    "#             cap = ev.get(\"venue\", {}).get(\"capacity\")\n",
    "#             if cap: capacities.append(cap)\n",
    "\n",
    "#         if not js[\"pagination\"][\"has_more_items\"]:\n",
    "#             break\n",
    "#         params[\"page\"] += 1\n",
    "\n",
    "#     return {\n",
    "#         \"event_date\"      : day,\n",
    "#         \"eb_events\"       : len(all_events),\n",
    "#         \"eb_largest_cap\"  : max(capacities) if capacities else 0,\n",
    "#     }\n"
   ]
  },
  {
   "cell_type": "code",
   "execution_count": 57,
   "id": "418b7a88",
   "metadata": {},
   "outputs": [],
   "source": [
    "# import requests, datetime as dt, json, pprint\n",
    "\n",
    "# EB_TOKEN = \"E33VLQUO6WNXUUZGKITS\"\n",
    "# day = dt.date.today()\n",
    "\n",
    "# params = {\n",
    "#     \"location.latitude\" : LAT,\n",
    "#     \"location.longitude\": LON,\n",
    "#     \"location.within\"   : \"15km\",\n",
    "#     \"start_date.range_start\": f\"{day:%Y-%m-%d}T00:00:00Z\",\n",
    "#     \"start_date.range_end\"  : f\"{day:%Y-%m-%d}T23:59:59Z\",\n",
    "#     \"page\": 1,\n",
    "#     \"token\": EB_TOKEN\n",
    "# }\n",
    "# resp = requests.get(\n",
    "#     \"https://www.eventbriteapi.com/v3/events/search/\",\n",
    "#     params=params,\n",
    "#     timeout=15\n",
    "# )\n",
    "# print(resp.status_code)\n",
    "# print(resp.json().keys())      # should include 'events'\n"
   ]
  },
  {
   "cell_type": "code",
   "execution_count": 58,
   "id": "cb9048d7",
   "metadata": {},
   "outputs": [],
   "source": [
    "# import requests, datetime as dt, pprint\n",
    "\n",
    "# EB_TOKEN = \"E33VLQUO6WNXUUZGKITS\"\n",
    "# headers  = {\"Authorization\": f\"Bearer {EB_TOKEN}\"}\n",
    "\n",
    "# # Pull a single day with *only* the mandatory params\n",
    "# day = dt.date(2025, 7, 31)\n",
    "# params = {\n",
    "#     \"location.latitude\": 40.6827,\n",
    "#     \"location.longitude\": -73.9753,\n",
    "#     \"location.within\": \"15km\",\n",
    "#     \"start_date.range_start\": f\"{day:%Y-%m-%d}T00:00:00Z\",\n",
    "#     \"start_date.range_end\":   f\"{day:%Y-%m-%d}T23:59:59Z\",\n",
    "#     \"page\": 1,\n",
    "#     # no 'token' param at all\n",
    "# }\n",
    "\n",
    "# r = requests.get(\n",
    "#     \"https://www.eventbriteapi.com/v3/events/search/\",\n",
    "#     params=params,\n",
    "#     headers=headers,\n",
    "#     timeout=15\n",
    "# )\n",
    "# print(\"Status:\", r.status_code)\n",
    "# pprint.pprint(r.json() if r.status_code == 200 else r.text)\n"
   ]
  },
  {
   "cell_type": "markdown",
   "id": "3ef82012",
   "metadata": {},
   "source": [
    "#### SeatGeek\n",
    "Pending approval"
   ]
  },
  {
   "cell_type": "code",
   "execution_count": 59,
   "id": "1b5e1c44",
   "metadata": {},
   "outputs": [],
   "source": [
    "# import requests, datetime as dt, pandas as pd\n",
    "\n",
    "# SG_ID     = \"YOUR_CLIENT_ID\"\n",
    "# LAT, LON  = 40.6827, -73.9753\n",
    "# RADIUS    = \"12mi\"\n",
    "\n",
    "# def seatgeek_day(day: dt.date):\n",
    "#     params = {\n",
    "#         \"lat\": LAT, \"lon\": LON, \"range\": RADIUS,\n",
    "#         \"datetime_utc.gte\": f\"{day:%Y-%m-%d}T00:00:00\",\n",
    "#         \"datetime_utc.lte\": f\"{day:%Y-%m-%d}T23:59:59\",\n",
    "#         \"client_id\": SG_ID,\n",
    "#         \"per_page\": 500, \"page\": 1\n",
    "#     }\n",
    "#     events, capacities = [], []\n",
    "#     while True:\n",
    "#         js = requests.get(\"https://api.seatgeek.com/2/events\", params=params, timeout=15).json()\n",
    "#         events += js[\"events\"]\n",
    "#         for e in js[\"events\"]:\n",
    "#             cap = e[\"venue\"].get(\"capacity\")\n",
    "#             if cap: capacities.append(cap)\n",
    "#         if params[\"page\"] >= js[\"meta\"][\"total_pages\"]: break\n",
    "#         params[\"page\"] += 1\n",
    "\n",
    "#     return {\n",
    "#         \"event_date\"      : day,\n",
    "#         \"other_events\"    : len(events),\n",
    "#         \"largest_capacity\": max(capacities) if capacities else 0\n",
    "#     }\n",
    "\n",
    "# # range helper\n",
    "# def seatgeek_range(start, end):\n",
    "#     dates = pd.date_range(start, end).date\n",
    "#     return pd.DataFrame([seatgeek_day(d) for d in dates])\n",
    "\n",
    "# sg_df = seatgeek_range \"2025-07-01\", \"2025-07-31\")\n"
   ]
  },
  {
   "cell_type": "markdown",
   "id": "dc326888",
   "metadata": {},
   "source": [
    "#### Traffic "
   ]
  },
  {
   "cell_type": "code",
   "execution_count": 60,
   "id": "71ea362c",
   "metadata": {},
   "outputs": [],
   "source": [
    "# HERE_KEY = \"YOUR_HERE_KEY\"\n",
    "# def get_traffic_snapshot(ts):\n",
    "#     # 5 km radius “prox” query\n",
    "#     url = (\"https://traffic.ls.hereapi.com/traffic/6.3/flow.json\"\n",
    "#            f\"?prox={LAT},{LON},5000\"\n",
    "#            f\"&apiKey={HERE_KEY}&responseattributes=sh,fc\")\n",
    "#     js = requests.get(url, timeout=15).json()\n",
    "#     speeds = [s['CF'][0]['SU']/s['CF'][0]['FF']   # speed / free-flow\n",
    "#               for rw in js['RWS'] for s in rw['RW']]\n",
    "#     return {\n",
    "#         \"event_timestamp\": ts,\n",
    "#         \"avg_speed_ratio\": sum(speeds)/len(speeds),\n",
    "#         \"congestion_pct\": 1 - (sum(speeds)/len(speeds))\n",
    "#     }\n"
   ]
  },
  {
   "cell_type": "code",
   "execution_count": null,
   "id": "531f7e73",
   "metadata": {},
   "outputs": [],
   "source": []
  },
  {
   "cell_type": "markdown",
   "id": "257e1fbf",
   "metadata": {},
   "source": [
    "#### MTA\n",
    "Official MTA is only for real time, no public historical data "
   ]
  },
  {
   "cell_type": "code",
   "execution_count": null,
   "id": "2a9363a2",
   "metadata": {},
   "outputs": [],
   "source": []
  },
  {
   "cell_type": "code",
   "execution_count": null,
   "id": "12a71627",
   "metadata": {},
   "outputs": [],
   "source": []
  },
  {
   "cell_type": "code",
   "execution_count": 61,
   "id": "feddd746",
   "metadata": {},
   "outputs": [
    {
     "data": {
      "text/plain": [
       "['event_name',\n",
       " 'event_name_long',\n",
       " 'event_date',\n",
       " 'event_time',\n",
       " 'event_day',\n",
       " 'starttime',\n",
       " 'team',\n",
       " 'event_type',\n",
       " 'minor_category',\n",
       " 'property',\n",
       " 'numberinline',\n",
       " 'relative start (minutes)',\n",
       " 'wait time (minutes)',\n",
       " 'time category',\n",
       " '5_minute_bucket',\n",
       " 'queue_mean_5',\n",
       " 'day_of_week',\n",
       " 'queue_slope_5',\n",
       " 'hour',\n",
       " 'hour_sin',\n",
       " 'hour_cos',\n",
       " 'day_sin',\n",
       " 'day_cos',\n",
       " 'minute_sin',\n",
       " 'minute_cos',\n",
       " 'count',\n",
       " 'tier',\n",
       " 'temperature_2m_max',\n",
       " 'temperature_2m_min',\n",
       " 'precipitation_sum',\n",
       " 'minute_minor_interaction',\n",
       " 'minute_sq',\n",
       " 'property_minor_interaction',\n",
       " 'log_queue_max30',\n",
       " 'other_events',\n",
       " 'largest_capacity',\n",
       " 'concurrent_event']"
      ]
     },
     "execution_count": 61,
     "metadata": {},
     "output_type": "execute_result"
    }
   ],
   "source": [
    "df_with_events.columns.tolist()"
   ]
  },
  {
   "cell_type": "markdown",
   "id": "4d10fb75",
   "metadata": {},
   "source": [
    "### Modeling"
   ]
  },
  {
   "cell_type": "code",
   "execution_count": null,
   "id": "06e36c03",
   "metadata": {},
   "outputs": [],
   "source": [
    "columns_for_model = [\n",
    "    'event_name', 'event_date', 'relative start (minutes)',\n",
    "    'event_day', # need one hot \n",
    "    'team', # need one hot\n",
    "    'minor_category', # need one hot\n",
    "    'time category', # need one hot\n",
    "    '5_minute_bucket',\n",
    "    'queue_mean_5', \n",
    "    'queue_slope_5',\n",
    "    'hour',\n",
    "    'hour_sin',\n",
    "    'hour_cos',\n",
    "    'day_sin',\n",
    "    'day_cos',\n",
    "    'minute_sin',\n",
    "    'minute_cos',\n",
    "    'count',\n",
    "    'tier', \n",
    "    'temperature_2m_max',\n",
    "    'temperature_2m_min',\n",
    "    'precipitation_sum',\n",
    "    'minute_minor_interaction',\n",
    "    'minute_sq',\n",
    "    'property_minor_interaction', \n",
    "    'log_queue_max30',\n",
    "    'other_events',\n",
    "    'concurrent_event']\n",
    "\n",
    "target = 'wait time (minutes)'"
   ]
  },
  {
   "cell_type": "markdown",
   "id": "03df762c",
   "metadata": {},
   "source": [
    "### Filter for Barclays"
   ]
  },
  {
   "cell_type": "code",
   "execution_count": 63,
   "id": "dca5f338",
   "metadata": {},
   "outputs": [],
   "source": [
    "df = df_with_events[df_with_events['property'] == 'Barclays'][columns_for_model + [target]]"
   ]
  },
  {
   "cell_type": "code",
   "execution_count": 64,
   "id": "b95bfbe0",
   "metadata": {},
   "outputs": [],
   "source": [
    "df.to_csv('df_for_model.csv', index=False)"
   ]
  },
  {
   "cell_type": "code",
   "execution_count": 65,
   "id": "9a39c655",
   "metadata": {},
   "outputs": [],
   "source": [
    "import numpy as np\n",
    "import pandas as pd\n",
    "import matplotlib.pyplot as plt\n",
    "from sklearn.model_selection import GroupShuffleSplit\n",
    "from sklearn.preprocessing import StandardScaler, OneHotEncoder\n",
    "from sklearn.compose import ColumnTransformer\n",
    "from sklearn.ensemble import GradientBoostingRegressor\n",
    "from sklearn.metrics import mean_absolute_error, mean_squared_error, r2_score\n",
    "import lightgbm as lgb"
   ]
  },
  {
   "cell_type": "code",
   "execution_count": null,
   "id": "77b75ed1",
   "metadata": {},
   "outputs": [],
   "source": [
    "features = [\n",
    "    'relative start (minutes)',\n",
    "    'event_day', # need one hot \n",
    "    'team', # need one hot \n",
    "    'minor_category', # need one hot\n",
    "    'time category', # need one hot\n",
    "    '5_minute_bucket',\n",
    "    'queue_mean_5', \n",
    "    'queue_slope_5',\n",
    "    'hour',\n",
    "    'hour_sin',\n",
    "    'hour_cos',\n",
    "    'day_sin',\n",
    "    'day_cos',\n",
    "    'minute_sin',\n",
    "    'minute_cos',\n",
    "    'count',\n",
    "    'tier', \n",
    "    'temperature_2m_max',\n",
    "    'temperature_2m_min',\n",
    "    'precipitation_sum',\n",
    "    'minute_minor_interaction',\n",
    "    'minute_sq',\n",
    "    'property_minor_interaction', \n",
    "    'log_queue_max30',\n",
    "    'other_events',\n",
    "    'concurrent_event']\n",
    "target = 'wait time (minutes)'"
   ]
  },
  {
   "cell_type": "code",
   "execution_count": 67,
   "id": "5fdbf56f",
   "metadata": {},
   "outputs": [
    {
     "name": "stdout",
     "output_type": "stream",
     "text": [
      "156 events in train / 39 in test\n",
      "Final check before model training:\n",
      "X shape: (137375, 27)\n",
      "y shape: (137375,)\n",
      "X contains NaN: False\n",
      "y contains NaN: False\n"
     ]
    }
   ],
   "source": [
    "# Set up the features and target with clean indexing\n",
    "X = df[features]   \n",
    "y = df[target]                \n",
    "\n",
    "gss = GroupShuffleSplit(n_splits=1, test_size=0.20, random_state=42)\n",
    "train_idx, test_idx = next(gss.split(X, y, groups=df['event_name']))\n",
    "\n",
    "X_train, X_test = X.iloc[train_idx], X.iloc[test_idx]\n",
    "y_train, y_test = y.iloc[train_idx], y.iloc[test_idx]\n",
    "\n",
    "print(f\"{len(np.unique(df.iloc[train_idx]['event_name']))} events in train / \"\n",
    "      f\"{len(np.unique(df.iloc[test_idx]['event_name']))} in test\")\n",
    "\n",
    "# Final check for NaN values before model training\n",
    "print(f\"Final check before model training:\")\n",
    "print(f\"X shape: {X.shape}\")\n",
    "print(f\"y shape: {y.shape}\")\n",
    "print(f\"X contains NaN: {X.isna().any().any()}\")\n",
    "print(f\"y contains NaN: {y.isna().any()}\")\n",
    "\n",
    "# If there are still NaN values, remove them\n",
    "if X.isna().any().any() or y.isna().any():\n",
    "    print(\"Found NaN values, removing them...\")\n",
    "    valid_mask = ~(X.isna().any(axis=1) | y.isna())\n",
    "    X = X[valid_mask]\n",
    "    y = y[valid_mask]\n",
    "    print(f\"After removing NaN - X shape: {X.shape}, y shape: {y.shape}\")"
   ]
  },
  {
   "cell_type": "markdown",
   "id": "67291da3",
   "metadata": {},
   "source": [
    "#### Gradient Boosting"
   ]
  },
  {
   "cell_type": "code",
   "execution_count": 68,
   "id": "60d7127e",
   "metadata": {},
   "outputs": [],
   "source": [
    "class WaitTimeQuantileCurveRegressor:\n",
    "    def __init__(self, quantiles=[0.95], model_type='sklearn_gb'):\n",
    "        assert model_type in ['sklearn_gb'], \"Only sklearn_gb supported here\"\n",
    "        self.quantiles = quantiles\n",
    "        self.model_type = model_type\n",
    "        self.models = {}  # {minute_bucket: {quantile: model}}\n",
    "        self.feature_columns = None\n",
    "        self.preprocessor = None\n",
    "\n",
    "    def fit(self, df, feature_columns, target_column, group_column, preprocessor):\n",
    "        self.feature_columns = feature_columns\n",
    "        self.preprocessor = preprocessor\n",
    "\n",
    "        for minute_bucket, df_slice in df.groupby(group_column):\n",
    "            self.models[minute_bucket] = {}\n",
    "            X = df_slice[feature_columns]\n",
    "            y = df_slice[target_column]\n",
    "\n",
    "            if self.preprocessor:\n",
    "                X = self.preprocessor.transform(X)  # Only transform\n",
    "\n",
    "            for q in self.quantiles:\n",
    "                model = GradientBoostingRegressor(\n",
    "                    loss='quantile', alpha=q,\n",
    "                    n_estimators=100, max_depth=6, random_state=42\n",
    "                )\n",
    "                model.fit(X, y)\n",
    "                self.models[minute_bucket][q] = model\n",
    "\n",
    "\n",
    "    def predict_curve(self, df):\n",
    "        preds = []\n",
    "        row_indices = []\n",
    "\n",
    "        for i, row in df.iterrows():\n",
    "            minute = row['relative start (minutes)']\n",
    "            if minute in self.models:\n",
    "                model = self.models[minute][self.quantiles[0]]\n",
    "                X_row = row[self.feature_columns].to_frame().T\n",
    "                if self.preprocessor:\n",
    "                    X_row = self.preprocessor.transform(X_row)\n",
    "                preds.append(model.predict(X_row)[0])\n",
    "                row_indices.append(i)  # ✅ track matching index\n",
    "            else:\n",
    "            # Skip prediction if no model for this minute\n",
    "                continue\n",
    "\n",
    "    # ✅ Only use matching indices\n",
    "        return pd.Series(preds, index=row_indices)\n"
   ]
  },
  {
   "cell_type": "code",
   "execution_count": 69,
   "id": "e7cd50ce",
   "metadata": {},
   "outputs": [
    {
     "name": "stdout",
     "output_type": "stream",
     "text": [
      "✅ Global preprocessor fitted on training data.\n",
      "📊 Training rows: 111310\n",
      "📊 Features: 27 total — 22 numerical, 5 categorical\n"
     ]
    }
   ],
   "source": [
    "from sklearn.preprocessing import StandardScaler, OneHotEncoder\n",
    "from sklearn.compose import ColumnTransformer\n",
    "\n",
    "# Step 1: Identify categorical and numerical features\n",
    "categorical_features = [col for col in features if df[col].dtype == 'object']\n",
    "numerical_features = [col for col in features if col not in categorical_features]\n",
    "\n",
    "# Step 2: Prepare training data from original df using GroupShuffleSplit\n",
    "df_train = df.iloc[train_idx].copy()\n",
    "X_train = df_train[features]\n",
    "y_train = df_train[target]\n",
    "\n",
    "# Step 3: Define and fit the global preprocessor\n",
    "preprocessor = ColumnTransformer([\n",
    "    ('num', StandardScaler(), numerical_features),\n",
    "    ('cat', OneHotEncoder(drop='first', handle_unknown='ignore'), categorical_features)\n",
    "])\n",
    "\n",
    "preprocessor.fit(X_train)  # ✅ Fit only ONCE globally\n",
    "\n",
    "print(f\"✅ Global preprocessor fitted on training data.\")\n",
    "print(f\"📊 Training rows: {len(df_train)}\")\n",
    "print(f\"📊 Features: {len(features)} total — {len(numerical_features)} numerical, {len(categorical_features)} categorical\")\n"
   ]
  },
  {
   "cell_type": "code",
   "execution_count": 70,
   "id": "fa5d1d4a",
   "metadata": {},
   "outputs": [],
   "source": [
    "model = WaitTimeQuantileCurveRegressor(quantiles=[0.95], model_type='sklearn_gb')\n",
    "model.fit(\n",
    "    df=df_train,\n",
    "    feature_columns=features,\n",
    "    target_column=target,\n",
    "    group_column='relative start (minutes)',\n",
    "    preprocessor=preprocessor\n",
    ")\n"
   ]
  },
  {
   "cell_type": "code",
   "execution_count": 71,
   "id": "0531b80c",
   "metadata": {},
   "outputs": [],
   "source": [
    "df_test = df.iloc[test_idx].copy()\n",
    "df_test['predicted'] = model.predict_curve(df_test)\n",
    "df_test['error'] = np.abs(df_test[target] - df_test['predicted'])"
   ]
  },
  {
   "cell_type": "code",
   "execution_count": 72,
   "id": "9a8e1d40",
   "metadata": {},
   "outputs": [
    {
     "data": {
      "image/png": "[encoded data removed]",
      "text/plain": [
       "<Figure size 1200x600 with 1 Axes>"
      ]
     },
     "metadata": {},
     "output_type": "display_data"
    }
   ],
   "source": [
    "curve_eval = (\n",
    "    df_test.groupby('relative start (minutes)')\n",
    "           .agg(actual=(target, 'mean'),\n",
    "                predicted=('predicted', 'mean'),\n",
    "                count=('event_name', 'count'))\n",
    "           .reset_index()\n",
    ")\n",
    "curve_eval['error'] = np.abs(curve_eval['actual'] - curve_eval['predicted'])\n",
    "\n",
    "# Plot curve\n",
    "plt.figure(figsize=(12, 6))\n",
    "plt.plot(curve_eval['relative start (minutes)'], curve_eval['actual'], label='Actual')\n",
    "plt.plot(curve_eval['relative start (minutes)'], curve_eval['predicted'], label='Predicted')\n",
    "plt.fill_between(curve_eval['relative start (minutes)'],\n",
    "                 curve_eval['actual'], curve_eval['predicted'],\n",
    "                 color='gray', alpha=0.3, label='Error')\n",
    "plt.title(\"Average Wait Time Curve (95th Percentile Prediction)\")\n",
    "plt.xlabel(\"Relative Minutes to Event Start\")\n",
    "plt.ylabel(\"Wait Time (minutes)\")\n",
    "plt.legend()\n",
    "plt.grid()\n",
    "plt.show()\n"
   ]
  },
  {
   "cell_type": "code",
   "execution_count": 73,
   "id": "7d851eb3",
   "metadata": {},
   "outputs": [
    {
     "name": "stdout",
     "output_type": "stream",
     "text": [
      "       event_name event_date  relative start (minutes)  wait time (minutes)  \\\n",
      "216401   25BA0519 2025-05-19                       -41                 0.50   \n",
      "110815   24BA0608 2024-06-08                       -54                 1.50   \n",
      "110852   24BA0608 2024-06-08                       -50                 1.00   \n",
      "155309   24BACHLK 2024-10-05                       -57                 1.00   \n",
      "110898   24BA0608 2024-06-08                       -45                 1.00   \n",
      "110806   24BA0608 2024-06-08                       -55                 1.50   \n",
      "110919   24BA0608 2024-06-08                       -43                 2.50   \n",
      "216400   25BA0519 2025-05-19                       -41                 4.88   \n",
      "155362   24BACHLK 2024-10-05                       -48                 0.50   \n",
      "146668   24BA2DAY 2024-08-10                        -8                 0.50   \n",
      "110896   24BA0608 2024-06-08                       -46                 0.50   \n",
      "110790   24BA0608 2024-06-08                       -57                 0.50   \n",
      "110753   24BA0608 2024-06-08                       -61                 0.50   \n",
      "155346   24BACHLK 2024-10-05                       -51                 0.50   \n",
      "110798   24BA0608 2024-06-08                       -56                 1.50   \n",
      "110928   24BA0608 2024-06-08                       -42                 0.50   \n",
      "172402   24BARBB4 2024-02-24                        -3                 0.50   \n",
      "172404   24BARBB4 2024-02-24                        -3                 0.50   \n",
      "172403   24BARBB4 2024-02-24                        -3                 0.50   \n",
      "216379   25BA0519 2025-05-19                       -54                 0.50   \n",
      "\n",
      "        predicted      error  relative start (minutes) event_day  \\\n",
      "216401  21.011713  20.511713                       -41       MON   \n",
      "110815  20.318677  18.818677                       -54       SAT   \n",
      "110852  18.911311  17.911311                       -50       SAT   \n",
      "155309  18.904042  17.904042                       -57       SAT   \n",
      "110898  18.422808  17.422808                       -45       SAT   \n",
      "110806  18.557018  17.057018                       -55       SAT   \n",
      "110919  18.896956  16.396956                       -43       SAT   \n",
      "216400  21.229251  16.349251                       -41       MON   \n",
      "155362  16.595401  16.095401                       -48       SAT   \n",
      "146668  16.305818  15.805818                        -8       SAT   \n",
      "110896  16.035965  15.535965                       -46       SAT   \n",
      "110790  15.698443  15.198443                       -57       SAT   \n",
      "110753  15.556579  15.056579                       -61       SAT   \n",
      "155346  15.444214  14.944214                       -51       SAT   \n",
      "110798  16.393342  14.893342                       -56       SAT   \n",
      "110928  15.368730  14.868730                       -42       SAT   \n",
      "172402  15.331142  14.831142                        -3       SAT   \n",
      "172404  15.331142  14.831142                        -3       SAT   \n",
      "172403  15.331142  14.831142                        -3       SAT   \n",
      "216379  15.261410  14.761410                       -54       MON   \n",
      "\n",
      "                           team    event_type  ... tier temperature_2m_max  \\\n",
      "216401           rauw alejandro  Single Event  ...  2.0               20.7   \n",
      "110815           salsa festival  Single Event  ...  7.0               25.2   \n",
      "110852           salsa festival  Single Event  ...  7.0               25.2   \n",
      "155309  chalk talk  vip upgrade  Single Event  ...  5.0               24.1   \n",
      "110898           salsa festival  Single Event  ...  7.0               25.2   \n",
      "110806           salsa festival  Single Event  ...  7.0               25.2   \n",
      "110919           salsa festival  Single Event  ...  7.0               25.2   \n",
      "216400           rauw alejandro  Single Event  ...  2.0               20.7   \n",
      "155362  chalk talk  vip upgrade  Single Event  ...  5.0               24.1   \n",
      "146668               pbr: teams  Single Event  ...  8.0               29.5   \n",
      "110896           salsa festival  Single Event  ...  7.0               25.2   \n",
      "110790           salsa festival  Single Event  ...  7.0               25.2   \n",
      "110753           salsa festival  Single Event  ...  7.0               25.2   \n",
      "155346  chalk talk  vip upgrade  Single Event  ...  5.0               24.1   \n",
      "110798           salsa festival  Single Event  ...  7.0               25.2   \n",
      "110928           salsa festival  Single Event  ...  7.0               25.2   \n",
      "172402   ringling bros.11:00 am  Single Event  ...  8.0                5.7   \n",
      "172404   ringling bros.11:00 am  Single Event  ...  7.0                5.7   \n",
      "172403   ringling bros.11:00 am  Single Event  ...  6.0                5.7   \n",
      "216379           rauw alejandro  Single Event  ...  2.0               20.7   \n",
      "\n",
      "        temperature_2m_min  precipitation_sum  minute_minor_interaction  \\\n",
      "216401                12.4                0.0                      -656   \n",
      "110815                15.1                0.0                      -486   \n",
      "110852                15.1                0.0                      -450   \n",
      "155309                14.0                0.3                     -1539   \n",
      "110898                15.1                0.0                      -405   \n",
      "110806                15.1                0.0                      -495   \n",
      "110919                15.1                0.0                      -387   \n",
      "216400                12.4                0.0                      -656   \n",
      "155362                14.0                0.3                     -1296   \n",
      "146668                21.9                1.7                       -16   \n",
      "110896                15.1                0.0                      -414   \n",
      "110790                15.1                0.0                      -513   \n",
      "110753                15.1                0.0                      -549   \n",
      "155346                14.0                0.3                     -1377   \n",
      "110798                15.1                0.0                      -504   \n",
      "110928                15.1                0.0                      -378   \n",
      "172402                -2.9                0.0                        -9   \n",
      "172404                -2.9                0.0                        -9   \n",
      "172403                -2.9                0.0                        -9   \n",
      "216379                12.4                0.0                      -864   \n",
      "\n",
      "        minute_sq  property_minor_interaction  log_queue_max30  other_events  \\\n",
      "216401       1681                           0         5.733988             0   \n",
      "110815       2916                           0         5.508578             0   \n",
      "110852       2500                           0         5.531015             0   \n",
      "155309       3249                           0         5.545958             0   \n",
      "110898       2025                           0         5.533389             0   \n",
      "110806       3025                           0         5.508578             0   \n",
      "110919       1849                           0         5.729450             0   \n",
      "216400       1681                           0         5.733988             0   \n",
      "155362       2304                           0         5.584999             0   \n",
      "146668         64                           0         5.436339             0   \n",
      "110896       2116                           0         5.533389             0   \n",
      "110790       3249                           0         5.310246             0   \n",
      "110753       3721                           0         5.465525             0   \n",
      "155346       2601                           0         5.549076             0   \n",
      "110798       3136                           0         5.508578             0   \n",
      "110928       1764                           0         5.729450             0   \n",
      "172402          9                           0         5.164786             0   \n",
      "172404          9                           0         5.164786             0   \n",
      "172403          9                           0         5.164786             0   \n",
      "216379       2916                           0         5.733988             0   \n",
      "\n",
      "        concurrent_event  \n",
      "216401                 0  \n",
      "110815                 0  \n",
      "110852                 0  \n",
      "155309                 0  \n",
      "110898                 0  \n",
      "110806                 0  \n",
      "110919                 0  \n",
      "216400                 0  \n",
      "155362                 0  \n",
      "146668                 0  \n",
      "110896                 0  \n",
      "110790                 0  \n",
      "110753                 0  \n",
      "155346                 0  \n",
      "110798                 0  \n",
      "110928                 0  \n",
      "172402                 0  \n",
      "172404                 0  \n",
      "172403                 0  \n",
      "216379                 0  \n",
      "\n",
      "[20 rows x 33 columns]\n"
     ]
    }
   ],
   "source": [
    "# Select core columns to inspect\n",
    "error_diagnostics = df_test[\n",
    "    ['event_name', 'event_date', 'relative start (minutes)', 'wait time (minutes)', 'predicted', 'error']\n",
    "    + features  # append all feature columns\n",
    "].sort_values(by='error', ascending=False)\n",
    "\n",
    "# Show top 20 worst predictions\n",
    "print(error_diagnostics.head(20))\n"
   ]
  },
  {
   "cell_type": "code",
   "execution_count": 74,
   "id": "9de0517c",
   "metadata": {},
   "outputs": [],
   "source": [
    "error_diagnostics.to_csv('error_diagnostics_barclays.csv', index=False)"
   ]
  },
  {
   "cell_type": "code",
   "execution_count": null,
   "id": "0a5c0296",
   "metadata": {},
   "outputs": [],
   "source": []
  },
  {
   "cell_type": "code",
   "execution_count": null,
   "id": "7c84cd27",
   "metadata": {},
   "outputs": [],
   "source": []
  }
 ],
 "metadata": {
  "kernelspec": {
   "display_name": "base",
   "language": "python",
   "name": "python3"
  },
  "language_info": {
   "codemirror_mode": {
    "name": "ipython",
    "version": 3
   },
   "file_extension": ".py",
   "mimetype": "text/x-python",
   "name": "python",
   "nbconvert_exporter": "python",
   "pygments_lexer": "ipython3",
   "version": "3.12.7"
  }
 },
 "nbformat": 4,
 "nbformat_minor": 5
}
